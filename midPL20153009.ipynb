{
 "cells": [
  {
   "cell_type": "markdown",
   "metadata": {},
   "source": [
    "# 2018 PL 중간고사\n",
    "\n",
    "* 이름: 양용준\n",
    "* 학번: 20153009\n",
    "\n",
    "제출 https://www.dropbox.com/request/vPZArmDIjwF48pYXUslK"
   ]
  },
  {
   "cell_type": "markdown",
   "metadata": {},
   "source": [
    "----\n",
    "## -1. 람다계산법 (하스켈 프로그램 작성 문제 아님, 총 6점)\n",
    " 1. $(\\lambda x.\\lambda x)$\n",
    " 1. $(\\lambda y.\\lambda y)$\n",
    " 1. $(\\lambda x.(\\lambda y.x~y))$\n",
    " 1. $(\\lambda x.(\\lambda y.y~x))$\n",
    " 1. $(\\lambda y.(\\lambda x.x~y))$\n",
    " 1. $(\\lambda y.(\\lambda x.y~x))$\n",
    " 1. $(\\lambda x.(\\lambda y.x~y))~(\\lambda x.x)$\n",
    " 1. $((\\lambda x.(\\lambda y.x~y))~(\\lambda x.x))~(\\lambda y.y)$\n",
    " 1. $((\\lambda z.z)~(\\lambda x.(\\lambda y.y~x)))$"
   ]
  },
  {
   "cell_type": "markdown",
   "metadata": {},
   "source": [
    "### -1-(1). 위 보기에서 1번과 $\\alpha$-동치관계에 있는 것을 모두 고르라 (1점)"
   ]
  },
  {
   "cell_type": "markdown",
   "metadata": {},
   "source": [
    "2"
   ]
  },
  {
   "cell_type": "markdown",
   "metadata": {},
   "source": [
    "### -1-(2). 위 보기에서 3번과 $\\alpha$-동치관계에 있는 것을 모두 고르라 (1점)"
   ]
  },
  {
   "cell_type": "markdown",
   "metadata": {},
   "source": [
    "6 7 8 "
   ]
  },
  {
   "cell_type": "markdown",
   "metadata": {},
   "source": [
    "### -1-(3). 위 보기에서 5번과 $\\beta$-동치관계에 있는 것을 모두 고르라 (2점)\n",
    "참고로 $\\beta$-동치관계는 기본적으로 $\\alpha$-동치관계도 포함한다."
   ]
  },
  {
   "cell_type": "markdown",
   "metadata": {},
   "source": [
    "3 4  5 6"
   ]
  },
  {
   "cell_type": "markdown",
   "metadata": {},
   "source": [
    "### -1-(4). 위 보기에서 7번과 $\\beta$-동치관계에 있는 것을 모두 고르라 (2점)\n",
    "참고로 $\\beta$-동치관계는 기본적으로 $\\alpha$-동치관계도 포함한다."
   ]
  },
  {
   "cell_type": "markdown",
   "metadata": {},
   "source": [
    "9"
   ]
  },
  {
   "cell_type": "markdown",
   "metadata": {},
   "source": [
    "----\n",
    "## 0. 고차함수와 리스트 조건제시법 (총 5점)"
   ]
  },
  {
   "cell_type": "markdown",
   "metadata": {},
   "source": [
    "### 0-(1). 1점\n",
    "`f01a`와 같은 계산을 하는 함수 `f01b`의 정의를 완성하라.\n",
    "다른 부분을 변경하지 말고 `undefined` 부분을 채워넣을 것."
   ]
  },
  {
   "cell_type": "code",
   "execution_count": 1,
   "metadata": {},
   "outputs": [],
   "source": [
    "f01a :: [Int] -> [Int]\n",
    "f01a = map (`mod` 3) . filter even"
   ]
  },
  {
   "cell_type": "code",
   "execution_count": 15,
   "metadata": {},
   "outputs": [],
   "source": [
    "f01b :: [Int] -> [Int]\n",
    "f01b xs = [x `mod` 3 | x<-xs, even x]"
   ]
  },
  {
   "cell_type": "markdown",
   "metadata": {},
   "source": [
    "### 0-(2). 1점\n",
    "`f22a`와 같은 계산을 하는 함수 `f22b`을 완성하라.\n",
    "다른 부분을 변경하지 말고 `undefined` 부분을 채워넣을 것."
   ]
  },
  {
   "cell_type": "code",
   "execution_count": 17,
   "metadata": {},
   "outputs": [],
   "source": [
    "f02a :: [Int] -> [Int]\n",
    "f02a = filter even . map (`mod` 3)"
   ]
  },
  {
   "cell_type": "code",
   "execution_count": 34,
   "metadata": {},
   "outputs": [
    {
     "data": {
      "text/plain": [
       "[2,3]"
      ]
     },
     "metadata": {},
     "output_type": "display_data"
    }
   ],
   "source": [
    "f02b [1, 2, 3]"
   ]
  },
  {
   "cell_type": "code",
   "execution_count": 37,
   "metadata": {},
   "outputs": [
    {
     "data": {
      "text/html": [
       "<style>/* Styles used for the Hoogle display in the pager */\n",
       ".hoogle-doc {\n",
       "display: block;\n",
       "padding-bottom: 1.3em;\n",
       "padding-left: 0.4em;\n",
       "}\n",
       ".hoogle-code {\n",
       "display: block;\n",
       "font-family: monospace;\n",
       "white-space: pre;\n",
       "}\n",
       ".hoogle-text {\n",
       "display: block;\n",
       "}\n",
       ".hoogle-name {\n",
       "color: green;\n",
       "font-weight: bold;\n",
       "}\n",
       ".hoogle-head {\n",
       "font-weight: bold;\n",
       "}\n",
       ".hoogle-sub {\n",
       "display: block;\n",
       "margin-left: 0.4em;\n",
       "}\n",
       ".hoogle-package {\n",
       "font-weight: bold;\n",
       "font-style: italic;\n",
       "}\n",
       ".hoogle-module {\n",
       "font-weight: bold;\n",
       "}\n",
       ".hoogle-class {\n",
       "font-weight: bold;\n",
       "}\n",
       ".get-type {\n",
       "color: green;\n",
       "font-weight: bold;\n",
       "font-family: monospace;\n",
       "display: block;\n",
       "white-space: pre-wrap;\n",
       "}\n",
       ".show-type {\n",
       "color: green;\n",
       "font-weight: bold;\n",
       "font-family: monospace;\n",
       "margin-left: 1em;\n",
       "}\n",
       ".mono {\n",
       "font-family: monospace;\n",
       "display: block;\n",
       "}\n",
       ".err-msg {\n",
       "color: red;\n",
       "font-style: italic;\n",
       "font-family: monospace;\n",
       "white-space: pre;\n",
       "display: block;\n",
       "}\n",
       "#unshowable {\n",
       "color: red;\n",
       "font-weight: bold;\n",
       "}\n",
       ".err-msg.in.collapse {\n",
       "padding-top: 0.7em;\n",
       "}\n",
       ".highlight-code {\n",
       "white-space: pre;\n",
       "font-family: monospace;\n",
       "}\n",
       ".suggestion-warning { \n",
       "font-weight: bold;\n",
       "color: rgb(200, 130, 0);\n",
       "}\n",
       ".suggestion-error { \n",
       "font-weight: bold;\n",
       "color: red;\n",
       "}\n",
       ".suggestion-name {\n",
       "font-weight: bold;\n",
       "}\n",
       "</style><span class='err-msg'>Parse error (line 2, column 25): parse error on input ‘=’<br/>Perhaps you need a 'let' in a 'do' block?<br/>e.g. 'let x = 5' instead of 'x = 5'</span>"
      ],
      "text/plain": [
       "Parse error (line 2, column 25): parse error on input ‘=’\n",
       "Perhaps you need a 'let' in a 'do' block?\n",
       "e.g. 'let x = 5' instead of 'x = 5'"
      ]
     },
     "metadata": {},
     "output_type": "display_data"
    }
   ],
   "source": [
    "f02b :: [Int] -> [Int]\n",
    "f02b xs = [undefined | x<-xs, undefined]"
   ]
  },
  {
   "cell_type": "markdown",
   "metadata": {},
   "source": [
    "### 0-(3). 2점\n",
    "`f23a`와 같은 계산을 하는 함수 `f23b`을 완성하라.\n",
    "다른 부분을 변경하지 말고 `undefined` 부분을 채워넣을 것."
   ]
  },
  {
   "cell_type": "code",
   "execution_count": 35,
   "metadata": {},
   "outputs": [],
   "source": [
    "f03a :: (b -> c) -> (a -> b) -> [a] -> [c]\n",
    "f03a f g = map f . map g"
   ]
  },
  {
   "cell_type": "code",
   "execution_count": 36,
   "metadata": {},
   "outputs": [],
   "source": [
    "f03b :: (b -> c) -> (a -> b) -> [a] -> [c]\n",
    "f03b f g xs = [f (g x) | x<-xs]"
   ]
  },
  {
   "cell_type": "markdown",
   "metadata": {},
   "source": [
    "----\n",
    "## 1. 순서쌍과 리스트 조건제시법 (hw1 연동문제, 총 6점)\n",
    "* 모두 맞거나 하나만 틀리면 과제에서 추가감점 없음\n",
    "* 두개 이상 틀리면 (틀린 개수 - 1) * 0.5 * hw1 점수만큼 과제 점수에서 감점"
   ]
  },
  {
   "cell_type": "markdown",
   "metadata": {},
   "source": [
    "### 1-(1). 1점\n",
    "주어진 정수 리스트 `xs`의 원소들 중 짝수만으로 이루어진 리스트를 계산하는 함수 `f11`을 조건제시법으로 작성하라."
   ]
  },
  {
   "cell_type": "code",
   "execution_count": 38,
   "metadata": {},
   "outputs": [],
   "source": [
    "f11 :: [Int] -> [Int]\n",
    "f11 xs = [ x | x <- xs, even x]"
   ]
  },
  {
   "cell_type": "markdown",
   "metadata": {},
   "source": [
    "예컨대,\n",
    "```haskell\n",
    "fs11 xs [1,2,3,4,5,6,7]\n",
    "```\n",
    "위 식의 계산 결과는 아래와 같아야 한다.\n",
    "```haskell\n",
    "[2,4,6]\n",
    "```"
   ]
  },
  {
   "cell_type": "code",
   "execution_count": 8,
   "metadata": {},
   "outputs": [
    {
     "data": {
      "text/plain": [
       "False"
      ]
     },
     "metadata": {},
     "output_type": "display_data"
    },
    {
     "data": {
      "text/plain": [
       "True"
      ]
     },
     "metadata": {},
     "output_type": "display_data"
    }
   ],
   "source": [
    "-- 위 문제에 도움이 되는 힌트: even 함수\n",
    "even 7\n",
    "even 8"
   ]
  },
  {
   "cell_type": "markdown",
   "metadata": {},
   "source": [
    "### 1-(2). 1점\n",
    "주어진 정수의 순서쌍으로 이루어진 리스트 `ps` 중에서\n",
    "순서쌍의 첫 요소가 `xs`에 속하는 순서쌍으로만 이루어진 리스트를 계산하는 함수 `f12`를 조건제시법으로 작성하라."
   ]
  },
  {
   "cell_type": "code",
   "execution_count": 4,
   "metadata": {},
   "outputs": [],
   "source": [
    "f12 :: [(Int,Int)] -> [Int] -> [(Int,Int)]\n",
    "f12 ps xs = [(p1, p2) | (p1, p2) <- ps, p1 `elem` xs]"
   ]
  },
  {
   "cell_type": "markdown",
   "metadata": {},
   "source": [
    "예컨대,\n",
    "```haskell\n",
    "fs12 [(0,1),(1,2),(2,3),(3,5),(4,2),(5,1),(5,4)] [2,5]\n",
    "```\n",
    "위 식의 계산 결과는 아래와 같아야 한다.\n",
    "```haskell\n",
    "[(2,3),(5,1),(5,4)]\n",
    "```"
   ]
  },
  {
   "cell_type": "code",
   "execution_count": null,
   "metadata": {},
   "outputs": [],
   "source": [
    "-- 위 문제에 도움이 되는 힌트: elem 함수\n",
    "2 `elem` [1,2,3]\n",
    "4 `elem` [1,2,3]"
   ]
  },
  {
   "cell_type": "markdown",
   "metadata": {},
   "source": [
    "### 1-(3). 2점\n",
    "`(Int,Char,Int)` 타입의 세순서쌍으로 이루어진 리스트 `ds`로\n",
    "hw1 과제의 비결정적 유한 오토마타(NFA)에서 화살표를 나타냈던 것을 기억하라.\n",
    "세순서쌍의 첫째 요소 정수값에 해당하는 상태에 있던 NFA가\n",
    "화살표를 따라 둘째 요소에 해당하는 글자 하나를 입력받고 나면\n",
    "NFA의 상태가 셋쩨 요소의 정수값이 된다는 뜻이다.\n",
    "이러한 `ds`가 나타내는 화살표로 그릴 수 있는 NFA가\n",
    "**어떤 글자든 상관없이 아무 글자 두 개**를 입력받게 될 때,\n",
    "즉 **길이가 2인 임의의 문자열**을 입력받았을 때,\n",
    "이러한 입력을 받기 전 상태를 순서쌍의 첫째 요소로 받은 후 상태를\n",
    "순서쌍의 둘째 요소로 나타낸다고 하자. 이렇게 두 글자를 연속으로 입력받기\n",
    "전과 후의 모든 가능한 NFA 상태를 순서쌍으로 나타낸 리스트를 계산하는 함수 `f13`을 작성하라. \n",
    "\n",
    "예컨대,\n",
    "```haskell\n",
    "f13 [(0,'a',1),(1,'a',2),(2,'b',3),(3,'b',4)] == [(0,2),(1,3),(2,4)]\n",
    "```"
   ]
  },
  {
   "cell_type": "code",
   "execution_count": 10,
   "metadata": {},
   "outputs": [],
   "source": [
    "f13 :: [(Int,Char,Int)] -> [(Int,Int)]\n",
    "f13 ds = [(a, z) |  (a, b, c) <- ds, (x, y, z) <- ds,  c == x]"
   ]
  },
  {
   "cell_type": "markdown",
   "metadata": {},
   "source": [
    "### 1-(4). 2점"
   ]
  },
  {
   "cell_type": "markdown",
   "metadata": {},
   "source": [
    "`(Int,Char,Int)` 타입의 세순서쌍으로 이루어진 리스트 `ds`로\n",
    "hw1 과제의 비결정적 유한 오토마타(NFA)에서 화살표를 나타냈던 것을 기억하라.\n",
    "세순서쌍의 첫째 요소 정수값에 해당하는 상태에 있던 NFA가\n",
    "화살표를 따라 둘째 요소에 해당하는 글자 하나를 입력받고 나면\n",
    "NFA의 상태가 셋쩨 요소의 정수값이 된다는 뜻이다.\n",
    "이러한 `ds`가 나타내는 화살표로 그릴 수 있는 NFA가\n",
    "어떤 글자든 **연속으로 똑같은 글자 두 개**를 입력받게 될 때\n",
    "이러한 입력을 받기 전 상태를 순서쌍의 첫째 요소로 받은 후 상태를\n",
    "순서쌍의 둘째 요소로 나타낸다고 하자. 이렇게 두 글자를 연속으로 입력받기\n",
    "전과 후의 모든 가능한 NFA 상태를 순서쌍으로 나타낸 리스트를 계산하는 함수 `f14`를 작성하라. \n",
    "\n",
    "예컨대,\n",
    "```haskell\n",
    "f14 [(0,'a',1),(1,'a',2),(2,'b',3),(3,'b',4)] == [(0,2),(2,4)]\n",
    "```"
   ]
  },
  {
   "cell_type": "code",
   "execution_count": 12,
   "metadata": {},
   "outputs": [],
   "source": [
    "f14 :: [(Int,Char,Int)] -> [(Int,Int)]\n",
    "f14 ds = [(a, z) |  (a, b, c) <- ds, (x, y, z) <- ds,  b == y, c == x]"
   ]
  },
  {
   "cell_type": "markdown",
   "metadata": {},
   "source": [
    "----\n",
    "## 2. 나무 구조 (hw2 연동문제, 총 6점)\n",
    "* 모두 맞거나 하나만 틀리면 추가감점 없음\n",
    "* 두개 이상 틀리면 (틀린 개수 - 1) * 0.5 * hw2 점수만큼 감점"
   ]
  },
  {
   "cell_type": "code",
   "execution_count": 14,
   "metadata": {},
   "outputs": [],
   "source": [
    "data Tree2 a = Null2\n",
    "             | Node2 a (Tree2 a) (Tree2 a) \n",
    "             deriving Show\n",
    "             \n",
    "data Tree a = Node a [Tree a]\n",
    "            deriving Show"
   ]
  },
  {
   "cell_type": "markdown",
   "metadata": {},
   "source": [
    "### 2-(1). 1점.\n",
    "이진트리에 들어 있는 원소 개수를 계산하는 `countTree2` 함수를 정의하라.\n",
    "(리스트의 길이, 즉 리스트에 들어있는 원소의 개수를 계산하는 `length` 함수와 비슷한 일을 하는 `Tree2`에 대해서 하는 함수이다.)"
   ]
  },
  {
   "cell_type": "code",
   "execution_count": 28,
   "metadata": {},
   "outputs": [],
   "source": [
    "countTree2 :: Tree2 a -> Int\n",
    "countTree2 Null2           = 0\n",
    "countTree2 (Node2 x t1 t2) = 1 + countTree2 t1 + countTree2 t2"
   ]
  },
  {
   "cell_type": "markdown",
   "metadata": {},
   "source": [
    "### 2-(2). 2점.\n",
    "임의의 개수로 가지치는 나무에 들어 있는 원소 개수를 계산하는 `countTree` 함수를 정의하라.\n",
    "(리스트의 길이, 즉 리스트에 들어있는 원소의 개수를 계산하는 `length` 함수와 비슷한 일을 `Tree`에 대해서 하는 함수이다.)"
   ]
  },
  {
   "cell_type": "code",
   "execution_count": 59,
   "metadata": {},
   "outputs": [],
   "source": [
    "countTree :: Tree a -> Int\n",
    "countTree (Node x ts) = length ts + sum [countTree  t | t <- ts]"
   ]
  },
  {
   "cell_type": "code",
   "execution_count": 60,
   "metadata": {},
   "outputs": [
    {
     "data": {
      "text/plain": [
       "3"
      ]
     },
     "metadata": {},
     "output_type": "display_data"
    }
   ],
   "source": [
    "countTree nn"
   ]
  },
  {
   "cell_type": "code",
   "execution_count": 55,
   "metadata": {},
   "outputs": [],
   "source": [
    "nn = Node 3 \n",
    "    [\n",
    "        Node 2 [\n",
    "            Node 2 []\n",
    "        ],\n",
    "        Node 2 []\n",
    "    ]"
   ]
  },
  {
   "cell_type": "code",
   "execution_count": 16,
   "metadata": {},
   "outputs": [
    {
     "data": {
      "text/plain": [
       "3"
      ]
     },
     "metadata": {},
     "output_type": "display_data"
    },
    {
     "data": {
      "text/plain": [
       "4"
      ]
     },
     "metadata": {},
     "output_type": "display_data"
    }
   ],
   "source": [
    "-- 참고로 length 함수\n",
    "length [1,2,3]\n",
    "length \"abcd\""
   ]
  },
  {
   "cell_type": "markdown",
   "metadata": {},
   "source": [
    "### 2-(3). 1점.\n",
    "이진트리에 들어 있는 모든 원소에 함수 `f`를 적용한 결과를 새로운 원소로 하는 이진트리를 계산하는 `mapTree2` 함수를 정의하라.\n",
    "(리스트에 들어있는 모든 원소에 함수를 적용한 결과로 만들어지는 리스트를 계산하는 `map`과 비슷한 일을 `Tree2`에 대해서 하는 함수이다.)\n",
    "\n",
    "```haskell\n",
    "mapTree2 (*2) (Node2 2 (Node2 3 Null2 Null2) (Node2 4 Null2 Null2))\n",
    "```\n",
    "예를 들어 위를 실행한 결과는 다음과 같다.\n",
    "```haskell\n",
    "Node2 4 (Node2 6 Null2 Null2) (Node2 8 Null2 Null2)\n",
    "```\n"
   ]
  },
  {
   "cell_type": "code",
   "execution_count": 17,
   "metadata": {},
   "outputs": [],
   "source": [
    "mapTree2 :: (a -> b) -> Tree2 a -> Tree2 b\n",
    "mapTree2 f Null2           = undefined\n",
    "mapTree2 f (Node2 x t1 t2) = undefined"
   ]
  },
  {
   "cell_type": "markdown",
   "metadata": {},
   "source": [
    "### 2-(4). 2점.\n",
    "임의의 개수로 가지치는 나무에 들어 있는 모든 원소에 함수 `f`를 적용한 결과를 새로운 원소로 하는 나무를 계산하는 `mapTree` 함수를 정의하라.\n",
    "(리스트에 들어있는 모든 원소에 함수를 적용한 결과로 만들어지는 리스트를 계산하는 `map`과 비슷한 일을 `Tree`에 대해서 하는 함수이다.)\n",
    "```haskell\n",
    "mapTree (*2) (Node 2 [Node 3 [], Node 4 []]) == Node 4 [Node 6 [], Node 8[]]\n",
    "```"
   ]
  },
  {
   "cell_type": "code",
   "execution_count": 18,
   "metadata": {},
   "outputs": [],
   "source": [
    "mapTree :: (a -> b) -> Tree a -> Tree b\n",
    "mapTree f (Node x ts) = undefined"
   ]
  },
  {
   "cell_type": "markdown",
   "metadata": {},
   "source": [
    "----\n",
    "#### 2-(3)과 2-(4)를 위한 힌트: map 함수 정의하기"
   ]
  },
  {
   "cell_type": "code",
   "execution_count": 19,
   "metadata": {},
   "outputs": [],
   "source": [
    "map :: (a -> b) -> [a] -> [b]\n",
    "map f []     = []\n",
    "map f (x:xs) = f x : map f xs"
   ]
  },
  {
   "cell_type": "code",
   "execution_count": 20,
   "metadata": {},
   "outputs": [
    {
     "data": {
      "text/plain": [
       "[4,6,8]"
      ]
     },
     "metadata": {},
     "output_type": "display_data"
    }
   ],
   "source": [
    "map (*2) [2,3,4]"
   ]
  },
  {
   "cell_type": "code",
   "execution_count": null,
   "metadata": {},
   "outputs": [],
   "source": []
  }
 ],
 "metadata": {
  "kernelspec": {
   "display_name": "Haskell",
   "language": "haskell",
   "name": "haskell"
  },
  "language_info": {
   "codemirror_mode": "ihaskell",
   "file_extension": ".hs",
   "name": "haskell",
   "pygments_lexer": "Haskell",
   "version": "8.2.2"
  }
 },
 "nbformat": 4,
 "nbformat_minor": 2
}

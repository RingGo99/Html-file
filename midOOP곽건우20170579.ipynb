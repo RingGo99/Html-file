{
 "cells": [
  {
   "cell_type": "markdown",
   "metadata": {},
   "source": [
    "# 2019 객체지향프로그래밍 중간고사\n",
    "\n",
    "* 이름: 곽건우\n",
    "* 학번: 20170579\n",
    "\n",
    "----"
   ]
  },
  {
   "cell_type": "markdown",
   "metadata": {},
   "source": [
    "## 배열 (1점)"
   ]
  },
  {
   "cell_type": "code",
   "execution_count": 7,
   "metadata": {},
   "outputs": [
    {
     "name": "stdout",
     "output_type": "stream",
     "text": [
      "120\n"
     ]
    },
    {
     "data": {
      "text/plain": [
       "true"
      ]
     },
     "execution_count": 7,
     "metadata": {},
     "output_type": "execute_result"
    }
   ],
   "source": [
    "import java.util.*;\n",
    "\n",
    "int[] arr = {1,2,3,4,5,6,7,8,9,10,11,12,13,14,15};\n",
    "\n",
    "int acc = 0;\n",
    "\n",
    "// 여기에 반복문을 활용하여 arr에 들어있는 수의 총합이\n",
    "// 반목문을 수행한 후에 acc에 저장되도록 하여\n",
    "// 아래 리턴 결과가 true가 되게 하라\n",
    "// (단, arr의 내용을 바꾸어도 항상 리턴 결과가 true가 되어야 한다)\n",
    "\n",
    "for(int i=0; i < arr.length; i++) {\n",
    "    acc = acc + arr[i];\n",
    "}\n",
    "\n",
    "System.out.println(acc);\n",
    "\n",
    "return acc == Arrays.stream(arr).sum();"
   ]
  },
  {
   "cell_type": "markdown",
   "metadata": {},
   "source": [
    "## 이차원 배열 (2점)"
   ]
  },
  {
   "cell_type": "code",
   "execution_count": 301,
   "metadata": {},
   "outputs": [
    {
     "ename": "ERROR",
     "evalue": " java.lang.ArrayIndexOutOfBoundsException",
     "output_type": "error",
     "traceback": [
      "\u001b[1;31mERROR: java.lang.ArrayIndexOutOfBoundsException: 4\u001b[0;0m"
     ]
    }
   ],
   "source": [
    "import java.util.*;\n",
    "\n",
    "int[][] arr = { {1,2,3}, {4,5,6,7}, {8,9,10,11,12}, {13,14,15,16,17} };\n",
    "\n",
    "int acc = 0;\n",
    "\n",
    "// 여기에 반복문을 활용하여 arr에 들어있는 수의 총합이\n",
    "// acc에 저장되도록 하여 아래 리턴 결과가 true가 되게 하라.\n",
    "// (단, arr의 내용을 바꾸어도 항상 리턴 결과가 true가 되어야 한다)\n",
    "\n",
    "for(int i = 0; i < arr[i].length; i++){\n",
    "    for(int j =0; j < arr[i].length; j++){\n",
    "        acc = arr[i][]\n",
    "    }\n",
    "      \n",
    "\n",
    "System.out.println(acc);\n",
    "\n",
    "return acc == Arrays.stream(arr).map(a -> Arrays.stream(a).sum()).reduce(0,Integer::sum);"
   ]
  },
  {
   "cell_type": "markdown",
   "metadata": {},
   "source": [
    "## 이차원 배열로부터 일차원 배열 계산 (3점)"
   ]
  },
  {
   "cell_type": "code",
   "execution_count": 298,
   "metadata": {},
   "outputs": [
    {
     "data": {
      "text/plain": [
       "true"
      ]
     },
     "execution_count": 298,
     "metadata": {},
     "output_type": "execute_result"
    }
   ],
   "source": [
    "import java.util.*;\n",
    "\n",
    "int[][] arr = { {1,2,3}, {4,5,6,7}, {8,9,10,11,12}, {13,14,15,16,17} };\n",
    "\n",
    "// arr안에 있는 각각의 일차원 배열의 합들을 계산해 ar에 저장하라\n",
    "// 이 때 ar의 타입은 일차원 배열인 int[]로 정의해야 한다.\n",
    "// 그렇게 해서 에러없이 아래 리턴 결과가 true가 되도록 하라.\n",
    "// (단, arr의 내용을 바꾸어도 항상 리턴 결과가 true가 되어야 한다)\n",
    "\n",
    "// int[] ar = ...;\n",
    "// ...\n",
    "// ...\n",
    "\n",
    "int ac1 =0;\n",
    "int ac2 =0;\n",
    "int ac3 =0;\n",
    "int ac4 =0;\n",
    "\n",
    "for(int i=0; i < arr[0].length; i++) {\n",
    "    ac1 = arr[0][i] + ac1;\n",
    "}\n",
    "for(int j=0; j< arr[1].length; j++) {\n",
    "    ac2 = arr[1][j] + ac2;\n",
    "} \n",
    "for(int k=0; k< arr[2].length; k++) {\n",
    "    ac3 = arr[2][k] + ac3;\n",
    "}\n",
    "for(int l=0; l< arr[3].length; l++) {\n",
    "    ac4 = arr[3][l] + ac4;\n",
    "}\n",
    "\n",
    "\n",
    "int[] ar = {ac1, ac2, ac3, ac4};\n",
    "\n",
    "\n",
    "\n",
    "return Arrays.equals(\n",
    "    Arrays.stream(ar).mapToObj(a -> new Integer(a)).toArray(),\n",
    "    Arrays.stream(arr).map(a -> Arrays.stream(a).sum()).toArray() );"
   ]
  },
  {
   "cell_type": "markdown",
   "metadata": {},
   "source": [
    "## 인스턴스 변수 (2점)"
   ]
  },
  {
   "cell_type": "code",
   "execution_count": 53,
   "metadata": {},
   "outputs": [
    {
     "data": {
      "text/plain": [
       "com.twosigma.beaker.javash.bkr74bd3753.C"
      ]
     },
     "execution_count": 53,
     "metadata": {},
     "output_type": "execute_result"
    }
   ],
   "source": [
    "class C {\n",
    "    // 인스턴스 변수 두 개를 적절히 정의하여 에러없이 아래 리턴 결과가 true가 되게 하라\n",
    "    String s;\n",
    "    int n;\n",
    "}"
   ]
  },
  {
   "cell_type": "code",
   "execution_count": 54,
   "metadata": {},
   "outputs": [
    {
     "data": {
      "text/plain": [
       "true"
      ]
     },
     "execution_count": 54,
     "metadata": {},
     "output_type": "execute_result"
    }
   ],
   "source": [
    "C c1 = new C();\n",
    "C c2 = new C();\n",
    "c1.s = \"abc\";\n",
    "c1.n = 5;\n",
    "c2.s = c1.s + \"def\";\n",
    "c2.n = c1.n + 1;\n",
    "return c1.s.equals(\"abc\") && c1.n==5 && c2.s.equals(\"abcdef\") && c2.n==6;"
   ]
  },
  {
   "cell_type": "markdown",
   "metadata": {},
   "source": [
    "## 클래스 변수 (정적 변수) (2점)"
   ]
  },
  {
   "cell_type": "code",
   "execution_count": 59,
   "metadata": {},
   "outputs": [
    {
     "data": {
      "text/plain": [
       "com.twosigma.beaker.javash.bkr74bd3753.B"
      ]
     },
     "execution_count": 59,
     "metadata": {},
     "output_type": "execute_result"
    }
   ],
   "source": [
    "class B {\n",
    "    // String 타입의 클래스 변수 s를 적절히 정의하여 에러없이 아래의 리턴 결과가 true가 되게 하라\n",
    "    static String s = \"시험어렵다\";\n",
    "}"
   ]
  },
  {
   "cell_type": "code",
   "execution_count": 60,
   "metadata": {},
   "outputs": [
    {
     "data": {
      "text/plain": [
       "true"
      ]
     },
     "execution_count": 60,
     "metadata": {},
     "output_type": "execute_result"
    }
   ],
   "source": [
    "return B.s.length()==5;"
   ]
  },
  {
   "cell_type": "markdown",
   "metadata": {},
   "source": [
    "## 클래스 변수 및 메소드 (정적 변수 및 메소드) (2점)"
   ]
  },
  {
   "cell_type": "code",
   "execution_count": 306,
   "metadata": {},
   "outputs": [
    {
     "data": {
      "text/plain": [
       "com.twosigma.beaker.javash.bkr74bd3753.BB"
      ]
     },
     "execution_count": 306,
     "metadata": {},
     "output_type": "execute_result"
    }
   ],
   "source": [
    "class BB {\n",
    "    // int 타입의 c라는 이름의 클래스 변수와 put라는 이름의 클래스 메소드를\n",
    "    // 적절히 정의하여 에러없이 아래의 리턴 결과들이 모두 true가 되게 하라\n",
    "    // 필요하면 클래스 변수를 정의해도 좋다\n",
    "    static int c;\n",
    "   static int put(int c){ \n",
    "        System.out.println(c);\n",
    "   }\n",
    "}"
   ]
  },
  {
   "cell_type": "code",
   "execution_count": 307,
   "metadata": {},
   "outputs": [
    {
     "data": {
      "text/plain": [
       "false"
      ]
     },
     "execution_count": 307,
     "metadata": {},
     "output_type": "execute_result"
    }
   ],
   "source": [
    "BB.put(365);\n",
    "return BB.c==365;"
   ]
  },
  {
   "cell_type": "code",
   "execution_count": 308,
   "metadata": {},
   "outputs": [
    {
     "data": {
      "text/plain": [
       "false"
      ]
     },
     "execution_count": 308,
     "metadata": {},
     "output_type": "execute_result"
    }
   ],
   "source": [
    "BB.put(153);\n",
    "return BB.c==153;"
   ]
  },
  {
   "cell_type": "markdown",
   "metadata": {},
   "source": [
    "## 인스턴스 메소드 (2점)"
   ]
  },
  {
   "cell_type": "code",
   "execution_count": 311,
   "metadata": {},
   "outputs": [
    {
     "ename": "ERROR",
     "evalue": " java.lang.IllegalStateException",
     "output_type": "error",
     "traceback": [
      "\u001b[1;31mERROR: java.lang.IllegalStateException: incompatible types: unexpected return value\u001b[0;0m",
      "\u001b[1;31m return 0\u001b[0;0m",
      "\u001b[1;31m        ^^ \u001b[0;0m"
     ]
    }
   ],
   "source": [
    "class A {\n",
    "    int v;\n",
    "    void put(int v)\n",
    "    {\n",
    "\n",
    "    }\n",
    "    // put이라는 이름의 인스턴스 메소드를 적절히 정의하여 에러없이 아래의 리턴 결과가 true가 되게 하라\n",
    "}"
   ]
  },
  {
   "cell_type": "code",
   "execution_count": 312,
   "metadata": {},
   "outputs": [
    {
     "name": "stdout",
     "output_type": "stream",
     "text": [
      "365\n",
      "153\n"
     ]
    },
    {
     "data": {
      "text/plain": [
       "false"
      ]
     },
     "execution_count": 312,
     "metadata": {},
     "output_type": "execute_result"
    }
   ],
   "source": [
    "A a1 = new A();\n",
    "A a2 = new A();\n",
    "a1.put(365);\n",
    "a2.put(153);\n",
    "return a1.v==365 && a2.v==153;"
   ]
  },
  {
   "cell_type": "markdown",
   "metadata": {},
   "source": [
    "## 인스턴스 메소드 및 생성자 (2점)"
   ]
  },
  {
   "cell_type": "code",
   "execution_count": 178,
   "metadata": {},
   "outputs": [
    {
     "ename": "ERROR",
     "evalue": " java.lang.IllegalStateException",
     "output_type": "error",
     "traceback": [
      "\u001b[1;31mERROR: java.lang.IllegalStateException: incompatible types: unexpected return value\u001b[0;0m",
      "\u001b[1;31m return 0\u001b[0;0m",
      "\u001b[1;31m        ^^ \u001b[0;0m"
     ]
    }
   ],
   "source": [
    "class MyInt {\n",
    "    // get이라는 이름의 인스턴스 메소드와 생성자를 하나 작성하여 에러없이 아래의 리턴 결과가 true가 되게 하라\n",
    "    // 필요하다면 인스턴스 변수들도 정의하라\n",
    "    int i;\n",
    "    void get(int i){\n",
    "        \n",
    "    }\n",
    "    \n",
    "}"
   ]
  },
  {
   "cell_type": "code",
   "execution_count": 164,
   "metadata": {},
   "outputs": [
    {
     "ename": "constructor MyInt in class com.twosigma.beaker.javash.bkr74bd3753.MyInt cannot be applied to given types;",
     "evalue": "constructor MyInt in class com.twosigma.beaker.javash.bkr74bd3753.MyInt cannot be applied to given types;",
     "output_type": "error",
     "traceback": [
      "\u001b[0;31mconstructor MyInt in class com.twosigma.beaker.javash.bkr74bd3753.MyInt cannot be applied to given types;\u001b[0;0m",
      "\u001b[0;31m  required: no arguments\u001b[0;0m",
      "\u001b[0;31m  found: int\u001b[0;0m",
      "\u001b[0;31m  reason: actual and formal argument lists differ in length\u001b[0;0m",
      "\u001b[0;31m return new MyInt(3).get() == 3 && new MyInt(2).ge\u001b[0;0m",
      "\u001b[0;31m        ^           ^                               \u001b[0;0m",
      "\u001b[0;31m\u001b[0;0m",
      "\u001b[0;31mconstructor MyInt in class com.twosigma.beaker.javash.bkr74bd3753.MyInt cannot be applied to given types;\u001b[0;0m",
      "\u001b[0;31m  required: no arguments\u001b[0;0m",
      "\u001b[0;31m  found: int\u001b[0;0m",
      "\u001b[0;31m  reason: actual and formal argument lists differ in length\u001b[0;0m",
      "\u001b[0;31murn new MyInt(3).get() == 3 && new MyInt(2).get() == 2\u001b[0;0m",
      "\u001b[0;31m                               ^           ^            \u001b[0;0m"
     ]
    }
   ],
   "source": [
    "return new MyInt(3).get() == 3 && new MyInt(2).get() == 2;"
   ]
  },
  {
   "cell_type": "markdown",
   "metadata": {},
   "source": [
    "## 상속과 생성자 (3점)"
   ]
  },
  {
   "cell_type": "code",
   "execution_count": 186,
   "metadata": {},
   "outputs": [
    {
     "data": {
      "text/plain": [
       "com.twosigma.beaker.javash.bkr74bd3753.Person"
      ]
     },
     "execution_count": 186,
     "metadata": {},
     "output_type": "execute_result"
    }
   ],
   "source": [
    "class Person {\n",
    "    String name; // 이름\n",
    "    int age;     // 나이\n",
    "    \n",
    "    // 적절한 생성자를 정의하여 에러없이 아래 리턴 결과가 true가 되게 하라\n",
    "}"
   ]
  },
  {
   "cell_type": "code",
   "execution_count": 187,
   "metadata": {},
   "outputs": [
    {
     "data": {
      "text/plain": [
       "com.twosigma.beaker.javash.bkr74bd3753.Student"
      ]
     },
     "execution_count": 187,
     "metadata": {},
     "output_type": "execute_result"
    }
   ],
   "source": [
    "class Student extends Person {\n",
    "    \n",
    "    String school; // 학교\n",
    "    int number;    // 학번\n",
    "    \n",
    "\n",
    "    // 적절한 생성자를 정의하여 에러없이 아래 리턴 결과가 true가 되게 하라\n",
    "}"
   ]
  },
  {
   "cell_type": "code",
   "execution_count": 188,
   "metadata": {},
   "outputs": [
    {
     "ename": "constructor Student in class com.twosigma.beaker.javash.bkr74bd3753.Student cannot be applied to given types;",
     "evalue": "constructor Student in class com.twosigma.beaker.javash.bkr74bd3753.Student cannot be applied to given types;",
     "output_type": "error",
     "traceback": [
      "\u001b[0;31mconstructor Student in class com.twosigma.beaker.javash.bkr74bd3753.Student cannot be applied to given types;\u001b[0;0m",
      "\u001b[0;31m  required: no arguments\u001b[0;0m",
      "\u001b[0;31m  found: java.lang.String,int,java.lang.String,int\u001b[0;0m",
      "\u001b[0;31m  reason: actual and formal argument lists differ in length\u001b[0;0m",
      "\u001b[0;31m Student p1 = new Student(\"HNU\", 20191111, \"강성연\", 42)\u001b[0;0m",
      "\u001b[0;31m              ^                                      ^ \u001b[0;0m",
      "\u001b[0;31m\u001b[0;0m",
      "\u001b[0;31mconstructor Student in class com.twosigma.beaker.javash.bkr74bd3753.Student cannot be applied to given types;\u001b[0;0m",
      "\u001b[0;31m  required: no arguments\u001b[0;0m",
      "\u001b[0;31m  found: java.lang.String,int,java.lang.String,int\u001b[0;0m",
      "\u001b[0;31m  reason: actual and formal argument lists differ in length\u001b[0;0m",
      "\u001b[0;31m Student p2 = new Student(\"한남대학교\", 20192222, \"권상우\", 41)\u001b[0;0m",
      "\u001b[0;31m              ^                                        ^ \u001b[0;0m"
     ]
    }
   ],
   "source": [
    "Student p1 = new Student(\"HNU\", 20191111, \"강성연\", 42);\n",
    "Student p2 = new Student(\"한남대학교\", 20192222, \"권상우\", 41);\n",
    "return p1.school.equals(\"HNU\")        && p1.number==20191111 && p1.name.equals(\"강성연\") && p1.age==42\n",
    "    && p2.school.equals(\"한남대학교\") && p2.number==20192222 && p2.name.equals(\"권상우\") && p2.age==41;"
   ]
  },
  {
   "cell_type": "markdown",
   "metadata": {},
   "source": [
    "## toString 관련 문제 (2점)"
   ]
  },
  {
   "cell_type": "code",
   "execution_count": 294,
   "metadata": {},
   "outputs": [
    {
     "ename": "ERROR",
     "evalue": " java.lang.IllegalStateException",
     "output_type": "error",
     "traceback": [
      "\u001b[1;31mERROR: java.lang.IllegalStateException: invalid method declaration; return type required\u001b[0;0m",
      "\u001b[1;31m toString(h)\u001b[0;0m",
      "\u001b[1;31m ^           \u001b[0;0m",
      "\u001b[1;31m\u001b[0;0m",
      "\u001b[1;31m<identifier> expected\u001b[0;0m",
      "\u001b[1;31m toString(h)\u001b[0;0m",
      "\u001b[1;31m           ^ \u001b[0;0m"
     ]
    }
   ],
   "source": [
    "class Hello {\n",
    "    // toString 함수를 적절히 오버라이딩하여 아래의 리턴 결과가 true가 되도록 하라\n",
    "    String s = \"Hello\";\n",
    "    toString(h);\n",
    "\n",
    "}"
   ]
  },
  {
   "cell_type": "code",
   "execution_count": 293,
   "metadata": {},
   "outputs": [
    {
     "data": {
      "text/plain": [
       "false"
      ]
     },
     "execution_count": 293,
     "metadata": {},
     "output_type": "execute_result"
    }
   ],
   "source": [
    "Hello h = new Hello();\n",
    "String str = h+\" world\";\n",
    "return str.equals(\"Hello world\"); // 그래서 리턴값이 true가 되도록"
   ]
  },
  {
   "cell_type": "markdown",
   "metadata": {},
   "source": [
    "## 인스턴스 변수 및 메소드 (3점)"
   ]
  },
  {
   "cell_type": "code",
   "execution_count": 313,
   "metadata": {},
   "outputs": [
    {
     "ename": "ERROR",
     "evalue": " java.lang.IllegalStateException",
     "output_type": "error",
     "traceback": [
      "\u001b[1;31mERROR: java.lang.IllegalStateException: not a statement\u001b[0;0m",
      "\u001b[1;31m this d= d\u001b[0;0m",
      "\u001b[1;31m ^   ^      \u001b[0;0m",
      "\u001b[1;31m\u001b[0;0m",
      "\u001b[1;31m';' expected\u001b[0;0m",
      "\u001b[1;31m this d= d\u001b[0;0m",
      "\u001b[1;31m     ^     \u001b[0;0m"
     ]
    }
   ],
   "source": [
    "class D1 {\n",
    "    double d;\n",
    "    // 생성자 및 리턴 타입이 D1인 copy라는 이름의 메소드를 정의하여\n",
    "    // 아래의 리턴 결과가 true가 되도록 하라\n",
    "    void copy(){\n",
    "        this d= d;\n",
    "    }\n",
    "}"
   ]
  },
  {
   "cell_type": "code",
   "execution_count": 202,
   "metadata": {},
   "outputs": [
    {
     "ename": "constructor D1 in class com.twosigma.beaker.javash.bkr74bd3753.D1 cannot be applied to given types;",
     "evalue": "constructor D1 in class com.twosigma.beaker.javash.bkr74bd3753.D1 cannot be applied to given types;",
     "output_type": "error",
     "traceback": [
      "\u001b[0;31mconstructor D1 in class com.twosigma.beaker.javash.bkr74bd3753.D1 cannot be applied to given types;\u001b[0;0m",
      "\u001b[0;31m  required: no arguments\u001b[0;0m",
      "\u001b[0;31m  found: double\u001b[0;0m",
      "\u001b[0;31m  reason: actual and formal argument lists differ in length\u001b[0;0m",
      "\u001b[0;31m D1 o1 = new D1(1.5)\u001b[0;0m",
      "\u001b[0;31m         ^          ^ \u001b[0;0m",
      "\u001b[0;31m\u001b[0;0m",
      "\u001b[0;31mconstructor D1 in class com.twosigma.beaker.javash.bkr74bd3753.D1 cannot be applied to given types;\u001b[0;0m",
      "\u001b[0;31m  required: no arguments\u001b[0;0m",
      "\u001b[0;31m  found: double\u001b[0;0m",
      "\u001b[0;31m  reason: actual and formal argument lists differ in length\u001b[0;0m",
      "\u001b[0;31m D1 o2 = new D1(-2.3)\u001b[0;0m",
      "\u001b[0;31m         ^           ^ \u001b[0;0m",
      "\u001b[0;31m\u001b[0;0m",
      "\u001b[0;31mvoid cannot be dereferenced\u001b[0;0m",
      "\u001b[0;31m return o1.d ==  1.5 && o1.copy().d == o1.d && o1.copy() != o1\u001b[0;0m",
      "\u001b[0;31m                        ^          ^                            \u001b[0;0m",
      "\u001b[0;31m\u001b[0;0m",
      "\u001b[0;31m'void' type not allowed here\u001b[0;0m",
      "\u001b[0;31m 1.5 && o1.copy().d == o1.d && o1.copy() != o1\u001b[0;0m",
      "\u001b[0;31m                               ^        ^       \u001b[0;0m",
      "\u001b[0;31m\u001b[0;0m",
      "\u001b[0;31mvoid cannot be dereferenced\u001b[0;0m",
      "\u001b[0;31m && o2.d == -2.3 && o2.copy().d == o2.d && o2.copy() != o2\u001b[0;0m",
      "\u001b[0;31m                    ^          ^                            \u001b[0;0m",
      "\u001b[0;31m\u001b[0;0m",
      "\u001b[0;31m'void' type not allowed here\u001b[0;0m",
      "\u001b[0;31m-2.3 && o2.copy().d == o2.d && o2.copy() != o2\u001b[0;0m",
      "\u001b[0;31m                               ^        ^       \u001b[0;0m"
     ]
    }
   ],
   "source": [
    "D1 o1 = new D1(1.5);\n",
    "D1 o2 = new D1(-2.3);\n",
    "return o1.d ==  1.5 && o1.copy().d == o1.d && o1.copy() != o1\n",
    "    && o2.d == -2.3 && o2.copy().d == o2.d && o2.copy() != o2;"
   ]
  },
  {
   "cell_type": "markdown",
   "metadata": {},
   "source": [
    "## 인스턴스 변수 및 메소드 (3점)"
   ]
  },
  {
   "cell_type": "code",
   "execution_count": 198,
   "metadata": {},
   "outputs": [
    {
     "data": {
      "text/plain": [
       "com.twosigma.beaker.javash.bkr74bd3753.D2"
      ]
     },
     "execution_count": 198,
     "metadata": {},
     "output_type": "execute_result"
    }
   ],
   "source": [
    "class D2 {\n",
    "    double d;\n",
    "    // 생성자 및 리턴 타입이 D2인 copy라는 이름의 메소드를 정의하여\n",
    "    // 아래의 리턴 결과가 true가 되도록 하라\n",
    "    void copy\n",
    "}"
   ]
  },
  {
   "cell_type": "code",
   "execution_count": 199,
   "metadata": {},
   "outputs": [
    {
     "ename": "constructor D2 in class com.twosigma.beaker.javash.bkr74bd3753.D2 cannot be applied to given types;",
     "evalue": "constructor D2 in class com.twosigma.beaker.javash.bkr74bd3753.D2 cannot be applied to given types;",
     "output_type": "error",
     "traceback": [
      "\u001b[0;31mconstructor D2 in class com.twosigma.beaker.javash.bkr74bd3753.D2 cannot be applied to given types;\u001b[0;0m",
      "\u001b[0;31m  required: no arguments\u001b[0;0m",
      "\u001b[0;31m  found: double\u001b[0;0m",
      "\u001b[0;31m  reason: actual and formal argument lists differ in length\u001b[0;0m",
      "\u001b[0;31m D2 o1 = new D2(1.5)\u001b[0;0m",
      "\u001b[0;31m         ^          ^ \u001b[0;0m",
      "\u001b[0;31m\u001b[0;0m",
      "\u001b[0;31mconstructor D2 in class com.twosigma.beaker.javash.bkr74bd3753.D2 cannot be applied to given types;\u001b[0;0m",
      "\u001b[0;31m  required: no arguments\u001b[0;0m",
      "\u001b[0;31m  found: double\u001b[0;0m",
      "\u001b[0;31m  reason: actual and formal argument lists differ in length\u001b[0;0m",
      "\u001b[0;31m D2 o2 = new D2(-2.3)\u001b[0;0m",
      "\u001b[0;31m         ^           ^ \u001b[0;0m",
      "\u001b[0;31m\u001b[0;0m",
      "\u001b[0;31mcannot find symbol\u001b[0;0m",
      "\u001b[0;31m  symbol:   method copy()\u001b[0;0m",
      "\u001b[0;31m  location: variable o1 of type com.twosigma.beaker.javash.bkr74bd3753.D2\u001b[0;0m",
      "\u001b[0;31m return o1.d ==  1.5 && o1.copy().d == o1.d && o1.copy() == o\u001b[0;0m",
      "\u001b[0;31m                        ^      ^                               \u001b[0;0m",
      "\u001b[0;31m\u001b[0;0m",
      "\u001b[0;31mcannot find symbol\u001b[0;0m",
      "\u001b[0;31m  symbol:   method copy()\u001b[0;0m",
      "\u001b[0;31m  location: variable o1 of type com.twosigma.beaker.javash.bkr74bd3753.D2\u001b[0;0m",
      "\u001b[0;31m 1.5 && o1.copy().d == o1.d && o1.copy() == o1\u001b[0;0m",
      "\u001b[0;31m                               ^      ^         \u001b[0;0m",
      "\u001b[0;31m\u001b[0;0m",
      "\u001b[0;31mcannot find symbol\u001b[0;0m",
      "\u001b[0;31m  symbol:   method copy()\u001b[0;0m",
      "\u001b[0;31m  location: variable o2 of type com.twosigma.beaker.javash.bkr74bd3753.D2\u001b[0;0m",
      "\u001b[0;31m && o2.d == -2.3 && o2.copy().d == o2.d && o2.copy() == o\u001b[0;0m",
      "\u001b[0;31m                    ^      ^                               \u001b[0;0m",
      "\u001b[0;31m\u001b[0;0m",
      "\u001b[0;31mcannot find symbol\u001b[0;0m",
      "\u001b[0;31m  symbol:   method copy()\u001b[0;0m",
      "\u001b[0;31m  location: variable o2 of type com.twosigma.beaker.javash.bkr74bd3753.D2\u001b[0;0m",
      "\u001b[0;31m-2.3 && o2.copy().d == o2.d && o2.copy() == o2\u001b[0;0m",
      "\u001b[0;31m                               ^      ^         \u001b[0;0m"
     ]
    }
   ],
   "source": [
    "D2 o1 = new D2(1.5);\n",
    "D2 o2 = new D2(-2.3);\n",
    "return o1.d ==  1.5 && o1.copy().d == o1.d && o1.copy() == o1\n",
    "    && o2.d == -2.3 && o2.copy().d == o2.d && o2.copy() == o2;"
   ]
  },
  {
   "cell_type": "markdown",
   "metadata": {},
   "source": [
    "## 생성자 및 final 관련 문제 (3점)"
   ]
  },
  {
   "cell_type": "code",
   "execution_count": 295,
   "metadata": {},
   "outputs": [
    {
     "ename": "ERROR",
     "evalue": " java.lang.IllegalStateException",
     "output_type": "error",
     "traceback": [
      "\u001b[1;31mERROR: java.lang.IllegalStateException: illegal start of type\u001b[0;0m",
      "\u001b[1;31m this x = x\u001b[0;0m",
      "\u001b[1;31m ^          \u001b[0;0m",
      "\u001b[1;31m\u001b[0;0m",
      "\u001b[1;31m';' expected\u001b[0;0m",
      "\u001b[1;31m this x = x\u001b[0;0m",
      "\u001b[1;31m     ^      \u001b[0;0m",
      "\u001b[1;31m\u001b[0;0m",
      "\u001b[1;31m<identifier> expected\u001b[0;0m",
      "\u001b[1;31m this x = x\u001b[0;0m",
      "\u001b[1;31m       ^    \u001b[0;0m",
      "\u001b[1;31m\u001b[0;0m",
      "\u001b[1;31millegal start of type\u001b[0;0m",
      "\u001b[1;31m this y = y\u001b[0;0m",
      "\u001b[1;31m ^          \u001b[0;0m",
      "\u001b[1;31m\u001b[0;0m",
      "\u001b[1;31m';' expected\u001b[0;0m",
      "\u001b[1;31m this y = y\u001b[0;0m",
      "\u001b[1;31m     ^      \u001b[0;0m",
      "\u001b[1;31m\u001b[0;0m",
      "\u001b[1;31m<identifier> expected\u001b[0;0m",
      "\u001b[1;31m this y = y\u001b[0;0m",
      "\u001b[1;31m       ^    \u001b[0;0m",
      "\u001b[1;31m\u001b[0;0m",
      "\u001b[1;31millegal start of type\u001b[0;0m",
      "\u001b[1;31m this z = z\u001b[0;0m",
      "\u001b[1;31m ^          \u001b[0;0m",
      "\u001b[1;31m\u001b[0;0m",
      "\u001b[1;31m';' expected\u001b[0;0m",
      "\u001b[1;31m this z = z\u001b[0;0m",
      "\u001b[1;31m     ^      \u001b[0;0m",
      "\u001b[1;31m\u001b[0;0m",
      "\u001b[1;31m<identifier> expected\u001b[0;0m",
      "\u001b[1;31m this z = z\u001b[0;0m",
      "\u001b[1;31m       ^    \u001b[0;0m"
     ]
    }
   ],
   "source": [
    "class Point3D {\n",
    "    final int x, y, z;\n",
    "    \n",
    "    this x = x;\n",
    "    this y = y;\n",
    "    this z = z;\n",
    "    // 하나 또는 여러개의 생성자들을 작성하여 에러없이 아래의 리턴 결과가 true가 되게 하라\n",
    "}"
   ]
  },
  {
   "cell_type": "code",
   "execution_count": 296,
   "metadata": {
    "scrolled": false
   },
   "outputs": [
    {
     "ename": "cannot find symbol",
     "evalue": "cannot find symbol",
     "output_type": "error",
     "traceback": [
      "\u001b[1;31mcannot find symbol\u001b[0;0m",
      "\u001b[1;31m  symbol:   class Point3D\u001b[0;0m",
      "\u001b[0;31m  location: class com.twosigma.beaker.javash.bkr74bd3753.BeakerWrapperClass1261714175Idafab8f857e8a4473978ff22a5b6c8656\u001b[0;0m",
      "\u001b[0;31m Point3D p0 = new Point3D()\u001b[0;0m",
      "\u001b[0;31m ^      ^                    \u001b[0;0m",
      "\u001b[0;31m\u001b[0;0m",
      "\u001b[0;31mcannot find symbol\u001b[0;0m",
      "\u001b[0;31m  symbol:   class Point3D\u001b[0;0m",
      "\u001b[0;31m  location: class com.twosigma.beaker.javash.bkr74bd3753.BeakerWrapperClass1261714175Idafab8f857e8a4473978ff22a5b6c8656\u001b[0;0m",
      "\u001b[0;31m Point3D p0 = new Point3D()\u001b[0;0m",
      "\u001b[0;31m                  ^      ^   \u001b[0;0m",
      "\u001b[0;31m\u001b[0;0m",
      "\u001b[0;31mcannot find symbol\u001b[0;0m",
      "\u001b[0;31m  symbol:   class Point3D\u001b[0;0m",
      "\u001b[0;31m  location: class com.twosigma.beaker.javash.bkr74bd3753.BeakerWrapperClass1261714175Idafab8f857e8a4473978ff22a5b6c8656\u001b[0;0m",
      "\u001b[0;31m Point3D p1 = new Point3D(1,2,3)\u001b[0;0m",
      "\u001b[0;31m ^      ^                         \u001b[0;0m",
      "\u001b[0;31m\u001b[0;0m",
      "\u001b[0;31mcannot find symbol\u001b[0;0m",
      "\u001b[0;31m  symbol:   class Point3D\u001b[0;0m",
      "\u001b[0;31m  location: class com.twosigma.beaker.javash.bkr74bd3753.BeakerWrapperClass1261714175Idafab8f857e8a4473978ff22a5b6c8656\u001b[0;0m",
      "\u001b[0;31m Point3D p1 = new Point3D(1,2,3)\u001b[0;0m",
      "\u001b[0;31m                  ^      ^        \u001b[0;0m"
     ]
    }
   ],
   "source": [
    "Point3D p0 = new Point3D();\n",
    "Point3D p1 = new Point3D(1,2,3);\n",
    "return p0.x==0 && p0.y==0 && p0.z==0\n",
    "    && p1.x==1 && p1.y==2 && p1.z==3;"
   ]
  },
  {
   "cell_type": "code",
   "execution_count": null,
   "metadata": {},
   "outputs": [],
   "source": []
  }
 ],
 "metadata": {
  "kernelspec": {
   "display_name": "Java",
   "language": "java",
   "name": "java"
  },
  "language_info": {
   "codemirror_mode": "text/x-java",
   "file_extension": ".java",
   "mimetype": "",
   "name": "Java",
   "nbconverter_exporter": "",
   "version": "1.8.0_121"
  },
  "toc": {
   "base_numbering": 1,
   "nav_menu": {},
   "number_sections": false,
   "sideBar": false,
   "skip_h1_title": false,
   "title_cell": "Table of Contents",
   "title_sidebar": "Contents",
   "toc_cell": false,
   "toc_position": {},
   "toc_section_display": false,
   "toc_window_display": false
  }
 },
 "nbformat": 4,
 "nbformat_minor": 2
}

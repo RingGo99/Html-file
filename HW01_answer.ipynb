{
 "cells": [
  {
   "cell_type": "markdown",
   "metadata": {},
   "source": [
    "# HW01\n",
    "* 이름: 아무개\n",
    "* 학번: 99990000\n",
    "\n",
    "위에 이름과 학번을 자신의 것으로 기입하고 또 맨 위에 노트북의 제목도 `HW01<이름><학번>`으로 바꾸어 HiClass를 통해 마감시간까지 제출하면 됩니다.\n",
    "마감시간은 HiClass에 공지되어 있습니다."
   ]
  },
  {
   "cell_type": "code",
   "execution_count": 28,
   "metadata": {},
   "outputs": [
    {
     "data": {
      "text/plain": [
       "com.twosigma.beaker.javash.bkrcb76a6d3.RGB"
      ]
     },
     "execution_count": 28,
     "metadata": {},
     "output_type": "execute_result"
    }
   ],
   "source": [
    "class RGB {\n",
    "    int r, g, b;\n",
    "    RGB() { r=0; g=0; b=0; }\n",
    "    RGB(int _r, int _g, int _b) { r=_r; g=_g; b=_b; }\n",
    "    @Override public String toString() { return \"rgb(\"+r+\",\"+g+\",\"+b+\")\"; }\n",
    "}"
   ]
  },
  {
   "cell_type": "code",
   "execution_count": 29,
   "metadata": {},
   "outputs": [
    {
     "data": {
      "text/plain": [
       "com.twosigma.beaker.javash.bkrcb76a6d3.Point"
      ]
     },
     "execution_count": 29,
     "metadata": {},
     "output_type": "execute_result"
    }
   ],
   "source": [
    "class Point {\n",
    "    int x, y;\n",
    "    Point() { x=0; y=0; }\n",
    "    Point(int _x, int _y) { x=_x; y=_y; }\n",
    "    @Override public String toString() { return \"(\"+x+\",\"+y+\")\"; }\n",
    "}"
   ]
  },
  {
   "cell_type": "markdown",
   "metadata": {},
   "source": [
    "## 첫번째 설계\n",
    "* `CircObj`, `RectObj`, `RTriObj` 클래스 작성 (3점)\n",
    "* 같은 클래스의 인스턴스끼리 (`CircObj`끼리, `RectObj`끼리, `RTriObj`) 충돌 검사 테스트 사례 작성 및 각 테스트 사례를 svg 출력으로 확인 (3점)\n",
    "* 서로 다른 클래스의 (`CircObj`와 `RectObj`, `RectObj`와 `RTriObj`, `RTriObj`와 `CircObj`) 인스턴스 충돌 검사 테스트 사례 작성 및 각 테스트 사례를 svg 출력으로 확인 (3점)"
   ]
  },
  {
   "cell_type": "code",
   "execution_count": 30,
   "metadata": {},
   "outputs": [
    {
     "data": {
      "text/plain": [
       "com.twosigma.beaker.javash.bkrcb76a6d3.ShapeObj"
      ]
     },
     "execution_count": 30,
     "metadata": {},
     "output_type": "execute_result"
    }
   ],
   "source": [
    "abstract class ShapeObj { // 어떤 추상적인 모양의 물건 클래스\n",
    "    Point p;   // 물건 위치에 대한 정보\n",
    "    RGB color; // 물건의 색깔\n",
    "    ShapeObj(Point p, RGB c) { this.p=p; color=c; }\n",
    "    abstract Point closest(Point p); // 점 p와 가장 까까운 도형에 포함된 점 (소수점 이하는 적절히 처리해 정수 좌표로) //원 내부는 자기자신\n",
    "    abstract boolean collides(Point p); // 점 p와 충돌하는가?\n",
    "    abstract boolean collides(ShapeObj o); // o와 충돌하는가?\n",
    "    abstract String toSVG(); // svg 태그 생성\n",
    "    @Override\n",
    "    public String toString() { return toSVG(); }\n",
    "}"
   ]
  },
  {
   "cell_type": "markdown",
   "metadata": {},
   "source": [
    "<pre>\n",
    "<h2> 원에서의 점과의 충돌 검출 방법 </h2>\n",
    "원과 점의 closest 및 collides는 중점에서 모든 방향의 거리가 같다는 것을 이용하여, \n",
    "해당 점과의 거리가 반지름보다 긴지를 체크하여 쉽게 구할 수 있다.\n",
    "<img src=\"https://github.com/sbj1229/oop2019Spring/raw/master/circle2.png\"/> \n",
    "closest은 점을 반환하는데 원이 점 밖에 있는경우 도형에 가장 인접한 점을 반환해야 하므로\n",
    "삼각형의 닮은 성질을 이용하여 구할 수 있다.\n",
    "<img width=\"200\" height=\"200\" src=\"https://github.com/sbj1229/oop2019Spring/raw/master/circle.png\"/> \n",
    "<h2> 원에서의 도형과의 충돌 검출 방법 </h2>\n",
    "먼저  상대 도형에서 내 중심과 가장 가까운 점을 구한 뒤,\n",
    "구한 점이 내 도형과 충돌하는지 검사한다.\n",
    "아래 그림은 테스트 결과이다.\n",
    "<img width=\"400\" height=\"200\" src=\"https://github.com/sbj1229/oop2019Spring/raw/master/circle3.png\"/> \n",
    "\n",
    "</center>"
   ]
  },
  {
   "cell_type": "code",
   "execution_count": 31,
   "metadata": {},
   "outputs": [
    {
     "data": {
      "text/plain": [
       "com.twosigma.beaker.javash.bkrcb76a6d3.CircObj"
      ]
     },
     "execution_count": 31,
     "metadata": {},
     "output_type": "execute_result"
    }
   ],
   "source": [
    "class CircObj extends ShapeObj { // 원 모양 클래스\n",
    "    int r;\n",
    "    CircObj(int r, Point p, RGB c) { super(p, c); this.r = r; }\n",
    "\n",
    "    @Override\n",
    "    Point closest(Point p) {\n",
    "        int x = this.p.x - p.x; \n",
    "        int y = this.p.y - p.y;\n",
    "        double len = Math.sqrt(x*x+y*y); // 두 점의 거리를 구한다.\n",
    "        if(len <= r) return p; // 반지름이 길이보다 크거나 같은 경우, 점이 원 내부나 경계에 존재하므로 해당 점을 리턴\n",
    "            \n",
    "        // 반지름이 길이보다 작은경우, 직긱삼각형 비례를 이용하여 x,y 좌표를 구하여 리턴한다.\n",
    "        int dx = (int)Math.round( (p.x-this.p.x)*r/len ); \n",
    "        int dy = (int)Math.round( (p.y-this.p.y)*r/len );\n",
    "        return new Point(this.p.x+dx, this.p.y+dy);\n",
    "    }\n",
    "    @Override\n",
    "    boolean collides(Point p) {\n",
    "        int x = this.p.x - p.x; \n",
    "        int y = this.p.y - p.y;\n",
    "        double len = Math.sqrt(x*x+y*y);\n",
    "        return len <= r; // 반지름이 길이보다 크거나 같은 경우, 점이 원 내부에 존재하므로 충돌\n",
    "    }\n",
    "    @Override\n",
    "    boolean collides(ShapeObj o) { return collides(o.closest(p)); }\n",
    "    @Override\n",
    "    String toSVG() {\n",
    "        return \"<circle cx='\"+this.p.x+\"' cy='\"+this.p.y+\"' r='\"+r+\"' style='stroke:black; stroke-width:1; fill:\"+color+\"; opacity:0.33' />\";\n",
    "    }\n",
    "}"
   ]
  },
  {
   "cell_type": "markdown",
   "metadata": {},
   "source": [
    "<pre><h2>직사각형에서의 점과의 충돌 검출 방법</h2>\n",
    "직사각형은 가로/세로가 각각 x,y축과 평행하다는 제약조건이 있으므로,\n",
    "대각선/곡선에 따른 추가 연산 필요 없이 단순 비교 연산으로 충돌 여부를 구할수 있다.\n",
    "<img src=\"https://github.com/sbj1229/oop2019Spring/raw/master/rect.png\"/>\n",
    "점의 x,y를 px,py라 하고 사각형의 점을 rx,ry라 칭하면,\n",
    "\n",
    "(1) px가 rx보다 작고, py가 ry보다 작다면      rx,ry     값을 반환 \n",
    "(2) px가 rx~rx+w 사이이고, py가 ry보다 작다면 px,ry     값을 반환 \n",
    "(3) px가 rx+w보다 크고, py가 ry보다 작다면    rx+w,ry   값을 반환 \n",
    "(4) px가 rx보다 크고, py가 ry~ry+h 사이라면   rx+w,py 값을 반환 \n",
    "(5) px가 rx보다 크고, py가 ry보다 크다면      rx+w,ry+h 값을 반환 \n",
    "(6) px가 rx~rx+w 사이이고, py가 ry보다 크다면 rx,py   값을 반환 \n",
    "(7) px가 rx보다 작고, py가 ry보다 크다면      rx,ry+h   값을 반환\n",
    "(8) px가 rx보다 작고, py가 ry~ry+h 사이라면   rx,py   값을 반환 \n",
    "(9) px가 rx~rx+w 사이이고,  py가 ry~ry+h 사이라면  p를 반환\n",
    "\n",
    "점과의 충돌검사는 위의 조건식처럼 점이 (9) 안에 있는지를 rx <= px <=rx+w && ry <= py <= ry+h 조건식으로 검사하면 된다.\n",
    "\n",
    "<h2>직사각형에서의 도형과의 충돌 검출 방법</h2>\n",
    "직사각형에서는 아래와 같은 3가지 경우의 충돌이 있을 수 있는데,\n",
    "<img width=\"600\" height=\"300\" src=\"https://github.com/sbj1229/oop2019Spring/raw/master/rect2.png\"/>\n",
    "\n",
    "1)의 해결방법은 상대 도형의 중점이 내 도형과 충돌하는지 검사하는 것\n",
    "2)의 해결방법은 내 꼭짓점 4개를 상대 도형과 충돌하는지 검사하는 것\n",
    "3)의 해결방법은 내 변의 좌표를 따라 반복하면서 상대 도형과 충돌하는지 검사하는 것\n",
    "\n",
    "여기서 2)의 해법은 3)에 해법에 포함되는데,\n",
    "2)의 해법은 O(4) 의 실행시간을 가지지만 \n",
    "3)의 해법은 O(n)의 실행시간을 가지므로 먼저 검사한다."
   ]
  },
  {
   "cell_type": "code",
   "execution_count": 32,
   "metadata": {},
   "outputs": [
    {
     "data": {
      "text/plain": [
       "com.twosigma.beaker.javash.bkrcb76a6d3.RectObj"
      ]
     },
     "execution_count": 32,
     "metadata": {},
     "output_type": "execute_result"
    }
   ],
   "source": [
    "class RectObj extends ShapeObj { \n",
    "    int w; // 너비 (양수)\n",
    "    int h; // 높이 (양수)\n",
    "    RectObj(int w, int h, Point p, RGB c) {super(p,c); this.w = w; this.h = h;}\n",
    "    \n",
    "    @Override\n",
    "    Point closest(Point p) \n",
    "    {\n",
    "        if (collides(p)) return p; // 내부에 포함되는 점일 때\n",
    "        \n",
    "        if(p.x < this.p.x   && p.y < this.p.y  ) return new Point(this.p.x,   this.p.y  ); // 왼쪽   위   꼭지점 \n",
    "        if(p.x < this.p.x   && p.y > this.p.y+h) return new Point(this.p.x,   this.p.y+h); // 왼쪽   아래 꼭지점\n",
    "        if(p.x > this.p.x+w && p.y > this.p.y+h) return new Point(this.p.x+w, this.p.y+h); // 오른쪽 아래 꼭지점 \n",
    "        if(p.x > this.p.x+w && p.y < this.p.y  ) return new Point(this.p.x+w, this.p.y  ); // 오른쪽 위   꼭지점\n",
    "        \n",
    "        if(p.x < this.p.x && (this.p.y <= p.y && p.y <= this.p.y+h))   // 왼쪽 변 바깥\n",
    "            return new Point(this.p.x, p.y);\n",
    "        if((this.p.x <= p.x && p.x <= this.p.x+w) && p.y > this.p.y+h) // 아래쪽 변 바깥\n",
    "            return new Point(p.x, this.p.y+h);\n",
    "        if(p.x > this.p.x+w && (this.p.y <= p.y && p.y <= this.p.y+h)) // 오른쪽 변 바깥\n",
    "            return new Point(this.p.x+w, p.y);\n",
    "        if((this.p.x <= p.x && p.x <= this.p.x+w) && p.y < this.p.y)   // 위쪽 변 바깥\n",
    "            return new Point(p.x, this.p.y);\n",
    "        \n",
    "        System.err.println(\"RectObj closest: impossible happened\");\n",
    "        return null; // 여기에 결코 오면 안된다\n",
    "    }\n",
    "    @Override\n",
    "    boolean collides(Point p) {\n",
    "        return this.p.x <= p.x && p.x <= this.p.x+w\n",
    "            && this.p.y <= p.y && p.y <= this.p.y+h;\n",
    "    }\n",
    "    @Override\n",
    "    boolean collides(ShapeObj o) { \n",
    "        if(collides(o.p)) return true; // 상대 도형 중심이 내 안에 들어와 있으면 충돌\n",
    "            \n",
    "        if (o.collides(this.p) ||   // 각 꼭지점 충돌 검사\n",
    "            o.collides(new Point(this.p.x+w, this.p.y  )) ||\n",
    "            o.collides(new Point(this.p.x,   this.p.y+h)) ||\n",
    "            o.collides(new Point(this.p.x+w, this.p.y+h)) ) \n",
    "            return true;\n",
    "        \n",
    "        // 각 변 충돌 검사\n",
    "        for(int x=this.p.x; x<=this.p.x+w; x++) {\n",
    "            if(o.collides(new Point(x, this.p.y))) return true;\n",
    "            if(o.collides(new Point(x, this.p.y+h))) return true;\n",
    "        }\n",
    "        for(int y=this.p.y; y<=this.p.y+h; y++) {\n",
    "            if(o.collides(new Point(this.p.x, y))) return true;\n",
    "            if(o.collides(new Point(this.p.x+w, y))) return true;\n",
    "        }\n",
    "        \n",
    "        return false; // 경계에서도 충돌이 발생하지 않으면 미충돌\n",
    "    }\n",
    "    @Override\n",
    "    String toSVG() {\n",
    "        return \"<rect x='\"+this.p.x+\"' y='\"+this.p.y+\"' width='\"+w+\"'height='\"+h+\"' style='stroke:black; stroke-width:1; fill:\"+color+\"; opacity:0.33' />\";\n",
    "    }\n",
    "}"
   ]
  },
  {
   "cell_type": "code",
   "execution_count": 33,
   "metadata": {},
   "outputs": [
    {
     "name": "stdout",
     "output_type": "stream",
     "text": [
      "사각형과 사각형 충돌검사 : true\n",
      "사각형과 삼각형 충돌검사 : true\n",
      "사각형과 원 충돌검사 : true\n"
     ]
    },
    {
     "data": {
      "application/vnd.jupyter.widget-view+json": {
       "model_id": "71ce26c6-1c2a-4243-9906-14df12ef8a8a",
       "version_major": 2,
       "version_minor": 0
      },
      "method": "display_data"
     },
     "metadata": {},
     "output_type": "display_data"
    }
   ],
   "source": [
    "import com.twosigma.beakerx.widget.*;\n",
    "\n",
    "RTriObj t1 = new RTriObj(50, 50,new Point( 80,80 ), new RGB(255,0,0));\n",
    "RectObj r1 = new RectObj(100,100, new Point( 100,100 ), new RGB(0,0,255));\n",
    "RectObj r2 = new RectObj(30,60, new Point( 110,190 ), new RGB(0,255,255));\n",
    "CircObj c1 = new CircObj(30, new Point( 220,150), new RGB(0,255,0) );\n",
    "\n",
    "CircObj c3 = new CircObj(5, r1.closest(t1.p), new RGB(255,0,0) );\n",
    "CircObj c4 = new CircObj(5, r1.closest(r2.p), new RGB(0,255,255) );\n",
    "CircObj c5 = new CircObj(5, r1.closest(c1.p), new RGB(0,255,0) );\n",
    "\n",
    "System.out.println(\"사각형과 사각형 충돌검사 : \" +r1.collides(r2));\n",
    "System.out.println(\"사각형과 삼각형 충돌검사 : \" +r1.collides(t1));\n",
    "System.out.println(\"사각형과 원 충돌검사 : \" +r1.collides(c1));\n",
    "\n",
    "HTML widget = new HTML();\n",
    "String sgv = \n",
    "    \"<svg width='300' height='300' style='border:solid 1px'>\"\n",
    "    + t1 + r1 + r2 + c1 + c3 + c4 + c5 + \n",
    "    \"</svg>\";\n",
    "widget.setValue(\"<div>\"+sgv+\"</div>\");\n",
    "return widget;"
   ]
  },
  {
   "cell_type": "markdown",
   "metadata": {},
   "source": [
    "<pre><h2>직각삼각형에서의 점과의 충돌 검출 방법</h2>\n",
    "직각삼각형의 경우 이미 만들었던 사각형을 이용하여 쉽게 구할 수 있다.\n",
    "\n",
    "<img src=\"https://github.com/sbj1229/oop2019Spring/raw/master/triangle.png\"/>\n",
    "closest의 경우 삼각형과의 충돌검사를 시행하여 충돌할 경우 내부이므로 (1)이 해결되고 점 p를 반환한다.\n",
    "아니라면 사각형을 생성하여 점 p와 사각형의 closest 을 구한 뒤, 해당 점이 삼각형과 겹친다면 삼각형의 직선쪽이므로 해당 점을 반환하고 (2)가 해결된다.\n",
    "겹치지 않는다면, (3)의 영역이므로 빗변의 점들과 p를 모두 비교해서 가장 거리가 짧은 점을 반환한다.\n",
    "\n",
    "collides의 경우 역시 사각형과 collides을 구한뒤, 해당 결과가 거짓이면 사각형 밖이므로 거짓이고,\n",
    "삼각형의 높이나 너비가 0인경우는 사각형과 동일하므로(대각선 미존재) 사각형의 collides와 동일하다.\n",
    "두 경우가 모두 아닐경우, 그림의 (3)의 영역중 사각형 내부 이므로, \n",
    "<img src=\"https://github.com/sbj1229/oop2019Spring/raw/master/triangle2.png\"/>\n",
    "0 <= t1 <= 1 \n",
    "0 <= t2 <= 1 \n",
    "t1 + t2 <= 1\n",
    "의 세 백터 조건을 모두 만족하면 내부이다.\n",
    "그러나 우리가 작성한 직각삼각형은 너비와 높이가 독립적인 수치이므로, 백터가 아닌 좌표값으로만 본다면 각 항에 너비/높이를 곱해준 \n",
    "아래 식을 모두 만족한다면 내부이다.\n",
    "0 <= t1 <= w \n",
    "0 <= t2 <= h \n",
    "t1*h + t2*w <= w*h \n",
    "\n",
    "\n",
    "<h2>직각삼각형에서의 도형과의 충돌 검출 방법</h2>\n",
    "\n",
    "직각 삼각형 역시 직사각형과 동일한 충돌 검출 방식을 사용하는데,\n",
    "1)상대 도형의 중점이 내 도형과 충돌하는지 검사하는 것\n",
    "2)내 꼭짓점 3개를 상대 도형과 충돌하는지 검사하는 것\n",
    "3)내 변의 좌표를 따라 반복하면서 상대 도형과 충돌하는지 검사하는 것"
   ]
  },
  {
   "cell_type": "code",
   "execution_count": 34,
   "metadata": {},
   "outputs": [
    {
     "data": {
      "text/plain": [
       "com.twosigma.beaker.javash.bkrcb76a6d3.Calc"
      ]
     },
     "execution_count": 34,
     "metadata": {},
     "output_type": "execute_result"
    }
   ],
   "source": [
    "// 삼각형 연산용 \n",
    "class Calc{\n",
    "    static Point Shortlen(Point a,Point c,Point p) // 선분 ac와 점 p의 가장 가까운 접점은 어디인가?\n",
    "    {\n",
    "            int x = a.x - c.x;\n",
    "            int y = a.y - c.y;\n",
    "            double px = c.x, py = c.y;\n",
    "            double min = 9999999; // 초기값이므로 크게\n",
    "            double minx=0,miny=0;\n",
    "            double length = Math.sqrt(x*x+y*y);\n",
    "            double xr = x/length; // 대각선 점들의 위치변화값\n",
    "            double yr = y/length;\n",
    "            double ix,iy,il;\n",
    "            while((px >= Math.min(a.x,c.x) && px<= Math.max(a.x,c.x)) && (py >= Math.min(a.y,c.y) && py<=Math.max(a.y,c.y)) )\n",
    "            { // px,py가 대각선의 시작/도착점 범위 안에서만 돌도록\n",
    "                px += xr; //px,py : 현재 검사하고 있는 점. 초기값은 대각선 변의 끝점중 하나\n",
    "                py += yr; \n",
    "                ix=px-p.x; // 검사할 점과 현재 대각선 위의 점의 좌표차이 \n",
    "                iy=py-p.y;\n",
    "                il = Math.sqrt(ix*ix+iy*iy); // 거리\n",
    "                if(il<min){ // 현재 위치가 더 가깝다면 거리와 좌표를 기록\n",
    "                    min = il;\n",
    "                    minx = px;\n",
    "                    miny = py;\n",
    "                }\n",
    "            }\n",
    "            Point mins = new Point((int)Math.round(minx),(int)Math.round(miny)); // 반복문의 결과인 거리가 가장 짧은 점을 리턴\n",
    "            return mins;\n",
    "    }\n",
    "}"
   ]
  },
  {
   "cell_type": "code",
   "execution_count": 35,
   "metadata": {},
   "outputs": [
    {
     "data": {
      "text/plain": [
       "com.twosigma.beaker.javash.bkrcb76a6d3.RTriObj"
      ]
     },
     "execution_count": 35,
     "metadata": {},
     "output_type": "execute_result"
    }
   ],
   "source": [
    "class RTriObj extends ShapeObj {\n",
    "    int w; // 직각인 꼭지점으로부터 음수/양수로 왼쪽/오른쪽 방향으로의 w만큼 떨어진 꼭지점 나타냄\n",
    "    int h; // 직각인 꼭지점으로부터 음수/양수로 아래쪽/위쪽 방향으로의 h만큼 떨어진 꼭지점 나타냄\n",
    "    \n",
    "    RTriObj(int w, int h, Point p, RGB c) {\n",
    "        super(p,c); // 부모 클래스 생성자 호출\n",
    "        this.w = w;\n",
    "        this.h = h;\n",
    "    }\n",
    "    @Override\n",
    "    Point closest(Point p) \n",
    "    {              \n",
    "        if(collides(p)) return p; // 내부\n",
    "        \n",
    "        // 점 p와 가장 까까운 도형에 포함된 점 (소수점 이하는 적절히 처리해 정수 좌표로)\n",
    "        Point a  = new Point(this.p.x+w, this.p.y); // 꼭지점 \n",
    "        Point c  = new Point(this.p.x, this.p.y+h); \n",
    "        int minX = Math.min(this.p.x, this.p.x+w);  \n",
    "        int minY = Math.min(this.p.y, this.p.y+h);\n",
    "\n",
    "        Point p4 = new RectObj(Math.abs(w), Math.abs(h), new Point(minX, minY), color).closest(p); // 사각형 closest를 돌려서\n",
    "        if (collides(p4)) return p4; // 그게 삼각형에 있는 점이면 그걸 그대로 사용하면 됨\n",
    "        \n",
    "        // 아니라면 나머지 경우는 빗변들 따라 돌리는 경우밖에 남지 않는다\n",
    "        return Calc.Shortlen(a,c,p);\n",
    "    }\n",
    "    @Override\n",
    "    boolean collides(Point p) {\n",
    "        int minX = Math.min(this.p.x, this.p.x+w); \n",
    "        int minY = Math.min(this.p.y, this.p.y+h);\n",
    "        boolean collidesRect = new RectObj(Math.abs(w), Math.abs(h), new Point(minX, minY), color).collides(p);\n",
    "        // 포함하는 직사각형 안에 안들어오면 가망이 없다\n",
    "        if (!collidesRect) return collidesRect;\n",
    "        // 높이나 너비가 0이면 직사각형과 다를 바 없다\n",
    "        if (h==0 || w==0) return collidesRect;\n",
    "        \n",
    "        // (p.x, p,y) = (this.p.x + t1*w , this.p.y + t2*h)\n",
    "        // 0 <= t1 <= 1, 0 <= t2 <= 1, t1+t2 <= 1 을 확인\n",
    "        int t1w = p.x - this.p.x; // 중점과 x,y축 차\n",
    "        int t2h = p.y - this.p.y;\n",
    "        return ((w>0)  ? 0 <= t1w && t1w <= w : 0 >= t1w && t1w >= w) // 차이가 높이/너비보다 직고\n",
    "            && ((h>0)  ? 0 <= t2h && t2h <= h : 0 >= t2h && t2h >= h)\n",
    "            && ((w*h>0)? t1w*h + t2h*w <= w*h : t1w*h + t2h*w >= w*h); // 차이의 합이 0~w*h범위 안쪽일 때\n",
    "    }\n",
    "    @Override\n",
    "    boolean collides(ShapeObj o) \n",
    "    {\n",
    "        Point a = new Point (this.p.x+w, this.p.y); // x축 변화\n",
    "        Point c = new Point (this.p.x, this.p.y+h); // y축 변화\n",
    "        \n",
    "        if (collides(o.p)) return true; // 상대 도형의 기준점이 들어와 있다면 충돌\n",
    "\n",
    "        if (o.collides(this.p) || o.collides(a) || o.collides(c)) return true; // 각 꼭지점 충돌 검사\n",
    "\n",
    "        int maxX = Math.max(this.p.x, this.p.x+w),minX = Math.min(this.p.x, this.p.x+w); \n",
    "        int maxY = Math.max(this.p.y, this.p.y+h),minY = Math.min(this.p.y, this.p.y+h);\n",
    "        // 축에 평행한 변의 점들에 대해 충돌검사\n",
    "        for(int x=minX; x<=maxX; x++) if(o.collides(new Point(x, this.p.y))) return true;\n",
    "        for(int y=minY; y<=maxY; y++) if(o.collides(new Point(this.p.x, y))) return true;\n",
    "        \n",
    "        // 가로 세로 중 더 긴 쪽을 기준으로 1씩 변화시키며 빗변을 따라 충돌검사\n",
    "        if( Math.abs(w) >= Math.abs(h) ) {\n",
    "            for(int x=minX; x<=maxX; x++) // 가로가 길면 x값 1씩 변화\n",
    "                if(o.collides(new Point(x, a.y + (int)Math.round(h*(a.x-x)/w))))\n",
    "                    return true;\n",
    "        } else {\n",
    "            for(int y=minY; y<=maxY; y++) // 세로가 길면 y값 1씩 변화\n",
    "                if(o.collides(new Point(c.x + (int)Math.round(w*(c.y-y)/h), y)))\n",
    "                    return true;\n",
    "        }\n",
    "\n",
    "        return false;\n",
    "    }    \n",
    "        \n",
    "    @Override\n",
    "    String toSVG() { \n",
    "        return \"<polygon points='\"+this.p.x+\",\"+this.p.y+\" \"+ (this.p.x+w)+\",\"+this.p.y +\" \"+this.p.x+\",\"+(this.p.y +h)+\"' style='stroke:black; stroke-width:1; fill:\"+color+\"; opacity:0.33' />\";\n",
    "    }\n",
    "\n",
    "}"
   ]
  },
  {
   "cell_type": "markdown",
   "metadata": {},
   "source": [
    "공식 출처 :  https://mathjk.tistory.com/176 <br>\n",
    "이런식으로 넓이를 구해서 삼각형의 내부 연산 하는 등 방법은 여러가지, 위의 예시는 대각선/곡선에 대해 비교적 안정적인 케이스<br>\n",
    "<code>static boolean EqArea(Point a,Point b,Point c,Point p) // 넓이를 이용하여 점이 삼각형 내부에 위치했는지\n",
    "{\n",
    "    int abcarea = Math.round( Math.abs( (a.x-b.x)*c.y + (b.x-c.x)*a.y + (c.x-a.x)*b.y) / 2);\n",
    "    double abparea =  Math.abs((a.x-b.x)*p.y + (b.x-p.x)*a.y + (p.x-a.x)*b.y) / 2) ;\n",
    "    double acparea = Math.abs((a.x-p.x)*c.y + (p.x-c.x)*a.y + (c.x-a.x)*p.y) / 2) ;\n",
    "    dobule bcparea =  Math.abs((p.x-b.x)*c.y + (b.x-c.x)*p.y + (c.x-p.x)*b.y) / 2) ;\n",
    "    return abcarea == Math.round(abparea + acparea + bcparea );\n",
    "}</code>"
   ]
  },
  {
   "cell_type": "code",
   "execution_count": 36,
   "metadata": {},
   "outputs": [
    {
     "data": {
      "application/vnd.jupyter.widget-view+json": {
       "model_id": "8380e1b2-5ab3-4d81-ba03-04aaf1d38c64",
       "version_major": 2,
       "version_minor": 0
      },
      "method": "display_data"
     },
     "metadata": {},
     "output_type": "display_data"
    }
   ],
   "source": [
    "import com.twosigma.beakerx.widget.*;\n",
    "String s= TestDataObj.Vaild();\n",
    "HTML widget = new HTML();\n",
    "widget.setValue(\"<div>\"+s+\"</div>\");\n",
    "return widget;"
   ]
  },
  {
   "cell_type": "markdown",
   "metadata": {},
   "source": [
    "## 두번째 설계\n",
    "첫번째 설계와 같은 문제를 해결하지만 조금 다른 방식의 설계로 프로그램을 재작성해 보라.\n",
    "* `Circle`, `Rectangle`, `RTriangle` 클래스를 작성하라 (1점)\n",
    "* 첫번째에서 했던 같은 테스트 사례들로 모두 실행해 보라 (3점)"
   ]
  },
  {
   "cell_type": "code",
   "execution_count": 37,
   "metadata": {},
   "outputs": [
    {
     "data": {
      "text/plain": [
       "com.twosigma.beaker.javash.bkrcb76a6d3.Shape"
      ]
     },
     "execution_count": 37,
     "metadata": {},
     "output_type": "execute_result"
    }
   ],
   "source": [
    "abstract class Shape { // 어떤 추상적인 모양 클래스\n",
    "    RGB color; // 물건의 색깔\n",
    "    Shape(RGB c) { color=c; }\n",
    "    abstract String toSVG(Point self);\n",
    "    abstract Point closest(Point self, Point p);\n",
    "    abstract boolean collides(Point self, Point p);\n",
    "    abstract boolean collides(Point self, Obj o);\n",
    "}\n",
    "\n",
    "class Obj {\n",
    "    Point p;\n",
    "    Shape s; // Shape이 Obj의 속성이다\n",
    "    Obj(Point _p, Shape _s) { p=_p; s=_s; }\n",
    "    Point closest(Point p) { return s.closest(this.p, p); } // 점 p와 가장 까까운 도형에 포함된 점 (소수점 이하는 적절히 처리해 정수 좌표로)\n",
    "    boolean collides(Point p) { return s.collides(this.p, p); } // 점 p와 충돌하는가?\n",
    "    boolean collides(Obj o) { return s.collides(this.p, o); } // o와 충돌하는가\n",
    "    @Override\n",
    "    public String toString() { return s.toSVG(this.p); }\n",
    "}"
   ]
  },
  {
   "cell_type": "code",
   "execution_count": 38,
   "metadata": {},
   "outputs": [
    {
     "data": {
      "application/vnd.jupyter.widget-view+json": {
       "model_id": "44b6891f-dd7d-4cf7-bea5-36d3b2a56801",
       "version_major": 2,
       "version_minor": 0
      },
      "method": "display_data"
     },
     "metadata": {},
     "output_type": "display_data"
    }
   ],
   "source": [
    "import com.twosigma.beakerx.widget.*;\n",
    "\n",
    "RTriObj t1 = new RTriObj(-100,-100,new Point( 250,250 ), new RGB(255,0,0));\n",
    "RectObj r1 = new RectObj(100,100, new Point( 50,50 ), new RGB(0,0,255));\n",
    "CircObj c1 = new CircObj(50, new Point( 150,150), new RGB(0,255,0) );\n",
    "\n",
    "\n",
    "RTriangle t2 = new RTriangle( -100,-100, new RGB(255,0,0) );\n",
    "Rectangle r2 = new Rectangle( 100,100, new RGB(0,0,255) );\n",
    "Circle c2 = new Circle( 50 ,new RGB(0,255,0) );\n",
    "Obj o1 = new Obj(new Point( 250,250), t2);\n",
    "Obj o2 = new Obj(new Point( 50,50 ), r2);\n",
    "Obj o3 = new Obj(new Point( 150,150 ), c2);\n",
    "\n",
    "HTML widget = new HTML();\n",
    "String sgv = \n",
    "    \"<svg width='300' height='300' style='border:solid 1px'>\"\n",
    "    + t1 + r1 + c1 +\n",
    "    \"</svg>\" +\n",
    "    \"<svg width='300' height='300' style='border:solid 1px'>\"\n",
    "    + o1 + o2 + o3 +\n",
    "    \"</svg>\";\n",
    "widget.setValue(\"<div>\"+sgv+\"</div>\");\n",
    "return widget;"
   ]
  },
  {
   "cell_type": "code",
   "execution_count": 39,
   "metadata": {},
   "outputs": [
    {
     "data": {
      "text/plain": [
       "com.twosigma.beaker.javash.bkrcb76a6d3.Circle"
      ]
     },
     "execution_count": 39,
     "metadata": {},
     "output_type": "execute_result"
    }
   ],
   "source": [
    "class Circle extends Shape { // 원 모양 클래스\n",
    "    int r;\n",
    "    Circle(int r, RGB c) { super(c); this.r = r; }\n",
    "\n",
    "    @Override\n",
    "    Point closest(Point self, Point p) {\n",
    "        int x = self.x - p.x; \n",
    "        int y = self.y - p.y;\n",
    "        double len = Math.sqrt(x*x+y*y); // 두 점의 거리를 구한다.\n",
    "        if(len <= r)  return p; // 반지름이 길이보다 크거나 같은 경우, 점이 원 내부나 경계에 존재하므로 해당 점을 리턴\n",
    "    \n",
    "        // 반지름이 길이보다 작은경우, 직긱삼각형 비례를 이용하여 x,y 좌표를 구하여 리턴한다.\n",
    "        int dx = (int)Math.round( (p.x-self.x)*r/len );\n",
    "        int dy = (int)Math.round( (p.y-self.y)*r/len );\n",
    "        return new Point(self.x+dx, self.y+dy);\n",
    "    }\n",
    "\n",
    "    @Override\n",
    "    boolean collides(Point self, Point p) { \n",
    "        int x = self.x - p.x; \n",
    "        int y = self.y - p.y;\n",
    "        double len = Math.sqrt(x*x+y*y); // 두 점의 길이를 구한다.\n",
    "        return len <= r; // 반지름이 길이보다 크거나 같은 경우, 점이 원 내부에 존재하므로 충돌\n",
    "    }\n",
    "    @Override\n",
    "    boolean collides(Point self, Obj o) {\n",
    "        return collides(self, o.closest(self));\n",
    "    }\n",
    "    @Override\n",
    "    String toSVG(Point self) {\n",
    "        return \"<circle cx='\"+self.x+\"' cy='\"+self.y+\"' r='\"+r+\"' style='stroke:black; stroke-width:1; fill:\"+color+\"; opacity:0.33' />\";\n",
    "    }\n",
    "}"
   ]
  },
  {
   "cell_type": "code",
   "execution_count": 40,
   "metadata": {},
   "outputs": [
    {
     "data": {
      "application/vnd.jupyter.widget-view+json": {
       "model_id": "d788fb1f-c4b0-43b8-800a-d348212ab98d",
       "version_major": 2,
       "version_minor": 0
      },
      "method": "display_data"
     },
     "metadata": {},
     "output_type": "display_data"
    }
   ],
   "source": [
    "import com.twosigma.beakerx.widget.*;\n",
    "HTML widget = new HTML();\n",
    "\n",
    "Obj t1 = new Obj(new Point(150,150) , new Circle(70,new RGB(0,255,255))); // 70, 100 & 100 , 170\n",
    "\n",
    "Point p1 =  new Point(80,80);\n",
    "\n",
    "Circle c1  = new Circle(40 , new RGB(0,255,0));\n",
    "Circle c2 = new Circle(5,  new RGB(255,0,0));\n",
    "\n",
    "Obj o1 = new Obj(p1,c1);\n",
    "Obj o2 = new Obj(t1.closest(p1),c2);\n",
    "Obj o3 = new Obj(o1.closest(new Point(150,150)),c2);\n",
    "\n",
    "String sgv = \"\";\n",
    "sgv += \"<p>초록색 원의 중점과 하늘색 원의 closest : \"+o2.p+\"</p>\";\n",
    "sgv +=\"<p>closest의 좌표와 초록색 원의 충돌검사  : \"+o1.collides(o2.p)+\"</p>\";\n",
    "sgv +=\n",
    "    \"<svg width='300' height='300' style='border:solid 1px'>\"\n",
    "    + t1 + o1 + o2 +\n",
    "    \"</svg>\";\n",
    "\n",
    "sgv += \"<p>하늘색 원의 중점과 초록색 원의 closest : \"+o3.p+\"</p>\";\n",
    "sgv +=\"<p>closest의 좌표와 하늘색 원의 충돌검사  : \"+t1.collides(o3.p)+\"</p>\";\n",
    "sgv +=\n",
    "    \"<svg width='300' height='300' style='border:solid 1px'>\"\n",
    "    + t1 + o1 + o3 +\n",
    "    \"</svg>\";\n",
    "widget.setValue(\"<div>\"+sgv+\"</div>\");\n",
    "\n",
    "return widget; "
   ]
  },
  {
   "cell_type": "code",
   "execution_count": 41,
   "metadata": {},
   "outputs": [
    {
     "data": {
      "text/plain": [
       "com.twosigma.beaker.javash.bkrcb76a6d3.Rectangle"
      ]
     },
     "execution_count": 41,
     "metadata": {},
     "output_type": "execute_result"
    }
   ],
   "source": [
    "class Rectangle extends Shape { \n",
    "    int w; // 너비 (양수)\n",
    "    int h; // 높이 (양수)\n",
    "    Rectangle(int w,int h, RGB c) {super(c); this.w = w; this.h = h;}\n",
    "    \n",
    "    @Override\n",
    "    Point closest(Point self, Point p) \n",
    "    {\n",
    "        if (collides(self, p)) return p;\n",
    "\n",
    "        if(p.x < self.x   && p.y < self.y  ) return new Point(self.x, self.y);     // 왼쪽 위 꼭지점\n",
    "        if(p.x < self.x   && p.y > self.y+h) return new Point(self.x, self.y+h);   // 왼쪽 아래 꼭지점\n",
    "        if(p.x > self.x+w && p.y > self.y+h) return new Point(self.x+w, self.y+h); // 오른쪽 아래 꼭지점\n",
    "        if(p.x > self.x+w && p.y < self.y  ) return new Point(self.x+w, self.y);   // 오른쪽 위 꼭지점\n",
    "        \n",
    "        if(p.x < self.x && (self.y <= p.y && p.y <= self.y+h)) // 왼쪽 변 바깥\n",
    "            return new Point(self.x, p.y);\n",
    "        if((self.x <= p.x && p.x <= self.x+w) && p.y > self.y+h) // 아래쪽 변 바깥\n",
    "            return new Point(p.x, self.y+h);\n",
    "        if(p.x > self.x+w && (self.y <= p.y && p.y <= self.y+h)) // 오른쪽 변 바깥\n",
    "            return new Point(self.x+w, p.y);\n",
    "        if((self.x <= p.x && p.x <= self.x+w) && p.y < self.y) // 위쪽 변 바깥\n",
    "            return new Point(p.x, self.y);\n",
    "        \n",
    "        System.err.println(\"Rectangle closest: impossible happened\");\n",
    "        return null; // 여기에 결코 오면 안된다\n",
    "    }\n",
    "    @Override\n",
    "    boolean collides(Point self, Point p) {\n",
    "        return self.x <= p.x && p.x <= self.x+w\n",
    "            && self.y <= p.y && p.y <= self.y+h;\n",
    "    }\n",
    "    @Override\n",
    "    boolean collides(Point self, Obj o) { \n",
    "        if(collides(self, o.p)) return true; // 상대 도형 중심이 내 안에 들어와 있으면 충돌\n",
    "            \n",
    "        if (o.collides(self) ||   // 각 꼭지점 충돌 검사\n",
    "            o.collides(new Point(self.x+w, self.y  )) ||\n",
    "            o.collides(new Point(self.x,   self.y+h)) ||\n",
    "            o.collides(new Point(self.x+w, self.y+h)) ) \n",
    "            return true;\n",
    "        \n",
    "        // 각 변 충돌 검사\n",
    "        for(int x=self.x; x<=self.x+w; x++) {\n",
    "            if(o.collides(new Point(x, self.y))) return true;\n",
    "            if(o.collides(new Point(x, self.y+h))) return true;\n",
    "        }\n",
    "        for(int y=self.y; y<=self.y+h; y++) {\n",
    "            if(o.collides(new Point(self.x, y))) return true;\n",
    "            if(o.collides(new Point(self.x+w, y))) return true;\n",
    "        }\n",
    "            \n",
    "        return false; // 경계에서도 충돌이 발생하지 않으면 미충돌\n",
    "    }\n",
    "    @Override\n",
    "    String toSVG(Point self) {\n",
    "        return \"<rect x='\"+self.x+\"' y='\"+self.y+\"' width='\"+w+\"'height='\"+h+\"' style='stroke:black; stroke-width:1; fill:\"+color+\"; opacity:0.33' />\";\n",
    "    }\n",
    "}"
   ]
  },
  {
   "cell_type": "code",
   "execution_count": 42,
   "metadata": {},
   "outputs": [
    {
     "name": "stdout",
     "output_type": "stream",
     "text": [
      "하늘색 사각형과 빨주노초 사각형의 충돌검사 or : false\n",
      "하늘색 사각형과 자주색 사각형의 충돌검사 : true\n"
     ]
    },
    {
     "data": {
      "application/vnd.jupyter.widget-view+json": {
       "model_id": "a441256f-67a2-44e0-ab49-7a6bc6df41a7",
       "version_major": 2,
       "version_minor": 0
      },
      "method": "display_data"
     },
     "metadata": {},
     "output_type": "display_data"
    }
   ],
   "source": [
    "import com.twosigma.beakerx.widget.*;\n",
    "Obj t1 = new Obj(new Point(100,100) , new Rectangle(100,100,new RGB(0,255,255))); // 70, 100 & 100 , 170\n",
    "\n",
    "Point p1 =  new Point(50,50);\n",
    "Point p2 =  new Point(50,230);\n",
    "Point p3 =  new Point(230,230);\n",
    "Point p4 =  new Point(230,50);\n",
    "Point p5 =  new Point(90,120);\n",
    "\n",
    "Rectangle c1  = new Rectangle(30,30 , new RGB(255,0,0));\n",
    "Rectangle c2  = new Rectangle(30,30  ,new RGB(255,100,0)); \n",
    "Rectangle c3  = new Rectangle(30,30  ,new RGB(255,255,0));\n",
    "Rectangle c4  = new Rectangle(30,30  ,new RGB(0,255,0));\n",
    "Rectangle c5  = new Rectangle(30,30  ,new RGB(255,0,255));\n",
    "\n",
    "Circle c6  = new Circle(5,  new RGB(255,0,0));\n",
    "Circle c7  = new Circle(5,  new RGB(255,100,0)); \n",
    "Circle c8  = new Circle(5,  new RGB(255,255,0));\n",
    "Circle c9  = new Circle(5,  new RGB(0,255,0));\n",
    "Circle c10 = new Circle(5,  new RGB(255,0,255)); \n",
    "\n",
    "\n",
    "Obj o1 = new Obj(t1.closest(p1),c6);\n",
    "Obj o2 = new Obj(t1.closest(p2),c7);\n",
    "Obj o3 = new Obj(t1.closest(p3),c8);\n",
    "Obj o4 = new Obj(t1.closest(p4),c9);\n",
    "Obj o5 = new Obj(t1.closest(p5),c10);\n",
    "Obj o6 = new Obj(p1,c1);\n",
    "Obj o7 = new Obj(p2,c2);\n",
    "Obj o8 = new Obj(p3,c3);\n",
    "Obj o9 = new Obj(p4,c4);\n",
    "Obj o10 = new Obj(p5,c5);\n",
    "\n",
    "\n",
    "System.out.println(\"하늘색 사각형과 빨주노초 사각형의 충돌검사 or : \" +(o9.collides(t1) || o6.collides(t1) || o7.collides(t1) || o8.collides(t1)));\n",
    "System.out.println(\"하늘색 사각형과 자주색 사각형의 충돌검사 : \" +o10.collides(t1));\n",
    "\n",
    "HTML widget = new HTML();\n",
    "String sgv =\n",
    "    \"<svg width='300' height='300' style='border:solid 1px'>\"\n",
    "    + t1 + o1 + o2 + o3 + o4 + o5 + o6 + o7 + o8 + o9 + o10 +\n",
    "    \"</svg>\";\n",
    "widget.setValue(\"<div>\"+sgv+\"</div>\");\n",
    "\n",
    "\n",
    "return widget; "
   ]
  },
  {
   "cell_type": "code",
   "execution_count": 43,
   "metadata": {},
   "outputs": [
    {
     "data": {
      "text/plain": [
       "com.twosigma.beaker.javash.bkrcb76a6d3.RTriangle"
      ]
     },
     "execution_count": 43,
     "metadata": {},
     "output_type": "execute_result"
    }
   ],
   "source": [
    "class RTriangle extends Shape {\n",
    "    int w; // 직각인 꼭지점으로부터 음수/양수로 왼쪽/오른쪽 방향으로의 w만큼 떨어진 꼭지점 나타냄\n",
    "    int h; // 직각인 꼭지점으로부터 음수/양수로 아래쪽/위쪽 방향으로의 h만큼 떨어진 꼭지점 나타냄\n",
    "    \n",
    "    RTriangle(int w, int h, RGB c)  \n",
    "    {\n",
    "        super(c); // 부모 클래스 생성자 호출\n",
    "        this.w = w;\n",
    "        this.h = h;\n",
    "    }\n",
    "    @Override\n",
    "    Point closest(Point self, Point p) {\n",
    "        if(collides(self, p)) return p; // 내부\n",
    "        \n",
    "        // 점 p와 가장 까까운 도형에 포함된 점 (소수점 이하는 적절히 처리해 정수 좌표로)\n",
    "        Point a = new Point (self.x+w,self.y); // x축 변화\n",
    "        Point c = new Point (self.x,self.y+h); // y축 변화\n",
    "        int maxX = Math.max(self.x, self.x+w),minX = Math.min(self.x, self.x+w); \n",
    "        int maxY = Math.max(self.y, self.y+h),minY = Math.min(self.y, self.y+h);\n",
    "        \n",
    "        Point p4 = new Rectangle(Math.abs(w), Math.abs(h), color).closest(new Point(minX, minY), p); // 사각형 closest를 돌려서\n",
    "        if (collides(self, p4)) return p4; // 그게 삼각형에 있는 점이면 그걸 그대로 사용하면 됨\n",
    "\n",
    "        return Calc.Shortlen(a,c,p);\n",
    "\n",
    "    }\n",
    "    @Override\n",
    "    boolean collides(Point self, Point p) {\n",
    "        int minX = Math.min(self.x, self.x+w); \n",
    "        int minY = Math.min(self.y, self.y+h);\n",
    "        boolean collidesRect = new Rectangle(Math.abs(w), Math.abs(h), color).collides(new Point(minX, minY), p);\n",
    "        // 포함하는 직사각형 안에 안들어오면 가망이 없다\n",
    "        if (!collidesRect) return collidesRect;\n",
    "        // 높이나 너비가 0이면 직사각형과 다를 바 없다\n",
    "        if (h==0 || w==0) return collidesRect;\n",
    "        \n",
    "        // (p.x, p,y) = (self.x + t1*w + self.y + t2*h)\n",
    "        // 0 <= t1 <= 1, 0 <= t2 <= 1, t1+t2 <= 1 을 확인\n",
    "        int t1w = p.x - self.x;\n",
    "        int t2h = p.y - self.y;\n",
    "        return ((w>0)  ? 0 <= t1w && t1w <= w : 0 >= t1w && t1w >= w)\n",
    "            && ((h>0)  ? 0 <= t2h && t2h <= h : 0 >= t2h && t2h >= h)\n",
    "            && ((w*h>0)? t1w*h + t2h*w <= w*h : t1w*h + t2h*w >= w*h);\n",
    "    }\n",
    "    @Override\n",
    "    boolean collides(Point self, Obj o)\n",
    "    {\n",
    "        Point a = new Point (self.x+w,self.y); // x축 변화\n",
    "        Point c = new Point (self.x,self.y+h); // y축 변화\n",
    "        \n",
    "        if(collides(self,o.p)) return true; // 상대 도형의 중심이나 들어와 있다면 충돌\n",
    "            \n",
    "        if (o.collides(self) || o.collides(a) || o.collides(c) ) return true; // 각 꼭지점 충돌 검사\n",
    "        \n",
    "        int maxX = Math.max(self.x, self.x+w),minX = Math.min(self.x, self.x+w); \n",
    "        int maxY = Math.max(self.y, self.y+h),minY = Math.min(self.y, self.y+h);\n",
    "            \n",
    "        // 축에 평행한 변의 점들에 대해 충돌검사\n",
    "        for(int x=minX;x<=maxX;x++) if(o.collides(new Point(x,self.y))) return true;\n",
    "        for(int y=minY;y<=maxY;y++) if(o.collides(new Point(self.x,y))) return true;\n",
    "        \n",
    "        // 가로 세로 중 더 긴 쪽을 기준으로 1씩 변화시키며 빗변을 따라 충돌검사\n",
    "        if( Math.abs(w) >= Math.abs(h) ) { \n",
    "            for(int x=minX; x<=maxX; x++) // 가로가 길면 x값 1씩 변화\n",
    "                if(o.collides(new Point(x, a.y + (int)Math.round(h*(a.x-x)/w))))\n",
    "                    return true;\n",
    "        } else {\n",
    "            for(int y=minY; y<=maxY; y++) // 세로가 길면 y값 1씩 변화\n",
    "                if(o.collides(new Point(c.x + (int)Math.round(w*(c.y-y)/h), y)))\n",
    "                    return true;\n",
    "        }\n",
    "        \n",
    "        return false;\n",
    "    }    \n",
    "        \n",
    "    @Override\n",
    "    String toSVG(Point self) { \n",
    "        return \"<polygon points='\"+self.x+\",\"+self.y+\" \"+ (self.x+w)+\",\"+self.y +\" \"+self.x+\",\"+(self.y +h)+\"' style='stroke:black; stroke-width:1; fill:\"+color+\"; opacity:0.33' />\";\n",
    "    }\n",
    "\n",
    "}"
   ]
  },
  {
   "cell_type": "code",
   "execution_count": 44,
   "metadata": {},
   "outputs": [
    {
     "data": {
      "application/vnd.jupyter.widget-view+json": {
       "model_id": "d1b80b6c-17a7-4471-b0ce-3e369eeb5ead",
       "version_major": 2,
       "version_minor": 0
      },
      "method": "display_data"
     },
     "metadata": {},
     "output_type": "display_data"
    }
   ],
   "source": [
    "import com.twosigma.beakerx.widget.*;\n",
    "String s= TestData.Vaild();\n",
    "HTML widget = new HTML();\n",
    "widget.setValue(\"<div>\"+s+\"</div>\");\n",
    "return widget;"
   ]
  },
  {
   "cell_type": "code",
   "execution_count": 45,
   "metadata": {},
   "outputs": [
    {
     "data": {
      "text/plain": [
       "com.twosigma.beaker.javash.bkrcb76a6d3.TestDataObj"
      ]
     },
     "execution_count": 45,
     "metadata": {},
     "output_type": "execute_result"
    }
   ],
   "source": [
    "class TestDataObj {\n",
    "    public static String Vaild(){\n",
    "        int count = 5;\n",
    "        java.util.Random r = new java.util.Random();\n",
    "        RGB red = new RGB(255,0,0);\n",
    "        RGB blue = new RGB(0,0,255);\n",
    "\n",
    "        String sgvs=\"\";\n",
    "        for(int i=0; i<count;i++)\n",
    "        {\n",
    "            CircObj o1 = new CircObj(r.nextInt(95)+5, new Point( r.nextInt(100)+100, r.nextInt(100)+100 ), red);\n",
    "            CircObj o2 = new CircObj(r.nextInt(95)+5, new Point( r.nextInt(100)+100, r.nextInt(100)+100 ), blue);\n",
    "\n",
    "            sgvs +=\n",
    "            \"<p>\"+ i +\" :\" + o1.collides(o2)+\"</p>\"+ \n",
    "            \"<svg width='300' height='300' style='border:solid 1px'>\"\n",
    "            + o1 + o2 +\n",
    "            \"</svg>\"\n",
    "            ;\n",
    "        }\n",
    "        for(int i=0; i<count;i++)\n",
    "        {\n",
    "            RectObj o1 = new RectObj(r.nextInt(190)+10, r.nextInt(190)+10, new Point( r.nextInt(100)+50, r.nextInt(100)+50 ), red);\n",
    "            RectObj o2 = new RectObj(r.nextInt(190)+10, r.nextInt(190)+10, new Point( r.nextInt(100)+50, r.nextInt(100)+50 ), blue);\n",
    "\n",
    "            sgvs +=\n",
    "            \"<p>\"+ i +\" :\" + o1.collides(o2)+\"</p>\"+\n",
    "            \"<svg width='300' height='300' style='border:solid 1px'>\"\n",
    "            + o1 + o2 +\n",
    "            \"</svg>\";\n",
    "        }\n",
    "        for(int i=0; i<count;i++)\n",
    "        {\n",
    "            RTriObj o1 = new RTriObj(r.nextInt(200)-100, r.nextInt(200)-100, new Point( r.nextInt(100)+100, r.nextInt(100)+100 ), red);\n",
    "            RTriObj o2 = new RTriObj(r.nextInt(200)-100, r.nextInt(200)-100, new Point( r.nextInt(100)+100, r.nextInt(100)+100 ), blue);\n",
    "\n",
    "            sgvs +=\n",
    "            \"<p>\"+ i +\" :\" + o1.collides(o2)+\"</p>\" +\n",
    "            \"<svg width='300' height='300' style='border:solid 1px'>\"\n",
    "            + o1 + o2 +\n",
    "            \"</svg>\";\n",
    "           \n",
    "        }\n",
    "        for(int i=0; i<10;i++)\n",
    "        {\n",
    "            RTriObj o1 = new RTriObj(r.nextInt(200)-100, r.nextInt(200)-100,new Point( r.nextInt(100)+100, r.nextInt(100)+100 ), red);\n",
    "            RectObj o2 = new RectObj(r.nextInt(190)+10, r.nextInt(190)+10, new Point( r.nextInt(100)+100, r.nextInt(100)+100 ), blue);\n",
    "            CircObj o3 = new CircObj(r.nextInt(95)+5, new Point( r.nextInt(100)+100, r.nextInt(100)+100 ), new RGB(0,255,0) );\n",
    "\n",
    "            \n",
    "            \n",
    "            sgvs +=\n",
    "            \"<br/><br/><p>\"+ i +\" 삼각형<->사각형:\" + o1.collides(o2)+\",\"+o2.collides(o1)+\n",
    "            \"<p>    사각형<->원형:\" + o2.collides(o3)+\",\"+o3.collides(o2)+\n",
    "            \"<p>    원형<->삼각형:\" + o3.collides(o1)+\",\"+o1.collides(o3)+ \n",
    "            \"</p>\"+  \n",
    "            \"<svg width='300' height='300' style='border:solid 1px'>\"\n",
    "            + o1 + o2 + o3 + //o4 +\n",
    "            \"</svg>\";\n",
    "\n",
    "        }\n",
    "        sgvs += \"\"+sgvs.contains(\"false,true\") +sgvs.contains(\"true,false\");\n",
    "         return sgvs;   \n",
    "    }\n",
    "}"
   ]
  },
  {
   "cell_type": "code",
   "execution_count": 46,
   "metadata": {},
   "outputs": [
    {
     "data": {
      "text/plain": [
       "com.twosigma.beaker.javash.bkrcb76a6d3.TestData"
      ]
     },
     "execution_count": 46,
     "metadata": {},
     "output_type": "execute_result"
    }
   ],
   "source": [
    "class TestData {\n",
    "    public static String Vaild(){\n",
    "        int count = 5;\n",
    "        java.util.Random r = new java.util.Random();\n",
    "        RGB red = new RGB(255,0,0);\n",
    "        RGB blue = new RGB(0,0,255);\n",
    "\n",
    "        String sgvs=\"\";\n",
    "        for(int i=0; i<count;i++)\n",
    "        {\n",
    "            Circle t1 = new Circle( r.nextInt(95)+5, red );\n",
    "            Circle t2 = new Circle( r.nextInt(95)+5,blue );\n",
    "            Obj o1 = new Obj(new Point( r.nextInt(100)+100, r.nextInt(100)+100 ), t1);\n",
    "            Obj o2 = new Obj(new Point( r.nextInt(100)+100, r.nextInt(100)+100 ), t2);\n",
    "\n",
    "            sgvs +=\n",
    "            \"<p>\"+ i +\" :\" + o1.collides(o2)+\"</p>\"+ \n",
    "            \"<svg width='300' height='300' style='border:solid 1px'>\"\n",
    "            + o1 + o2 +\n",
    "            \"</svg>\"\n",
    "            ;\n",
    "        }\n",
    "        for(int i=0; i<count;i++)\n",
    "        {\n",
    "            Rectangle t1 = new Rectangle( r.nextInt(190)+10, r.nextInt(190)+10,red );\n",
    "            Rectangle t2 = new Rectangle( r.nextInt(190)+10, r.nextInt(190)+10,blue );\n",
    "            Obj o1 = new Obj(new Point( r.nextInt(100)+50, r.nextInt(100)+50 ), t1);\n",
    "            Obj o2 = new Obj(new Point( r.nextInt(100)+50, r.nextInt(100)+50 ), t2);\n",
    "\n",
    "            sgvs +=\n",
    "            \"<p>\"+ i +\" :\" + o1.collides(o2)+\"</p>\"+\n",
    "            \"<svg width='300' height='300' style='border:solid 1px'>\"\n",
    "            + o1 + o2 +\n",
    "            \"</svg>\";\n",
    "        }\n",
    "        for(int i=0; i<count;i++)\n",
    "        {\n",
    "            RTriangle t1 = new RTriangle( r.nextInt(200)-100, r.nextInt(200)-100,red );\n",
    "            RTriangle t2 = new RTriangle( r.nextInt(200)-100, r.nextInt(200)-100,blue );\n",
    "            Obj o1 = new Obj(new Point( r.nextInt(100)+100, r.nextInt(100)+100 ), t1);\n",
    "            Obj o2 = new Obj(new Point( r.nextInt(100)+100, r.nextInt(100)+100 ), t2);\n",
    "\n",
    "            sgvs +=\n",
    "            \"<p>\"+ i +\" :\" + o1.collides(o2)+\"</p>\" +\n",
    "            \"<svg width='300' height='300' style='border:solid 1px'>\"\n",
    "            + o1 + o2 +\n",
    "            \"</svg>\";\n",
    "           \n",
    "        }\n",
    "        for(int i=0; i<10;i++)\n",
    "        {\n",
    "            RTriangle t1 = new RTriangle( r.nextInt(200)-100, r.nextInt(200)-100,red );\n",
    "            Rectangle t2 = new Rectangle( r.nextInt(190)+10, r.nextInt(190)+10,blue );\n",
    "            Circle t3 = new Circle( r.nextInt(95)+5,new RGB(0,255,0) );\n",
    "            Obj o1 = new Obj(new Point( r.nextInt(100)+100, r.nextInt(100)+100 ), t1);\n",
    "            Obj o2 = new Obj(new Point( r.nextInt(100)+100, r.nextInt(100)+100 ), t2);\n",
    "            Obj o3 = new Obj(new Point( r.nextInt(100)+100, r.nextInt(100)+100 ), t3);\n",
    "            \n",
    "            sgvs +=\n",
    "            \"<br/><br/><p>\"+ i +\" 삼각형<->사각형:\" + o1.collides(o2)+\",\"+o2.collides(o1)+\n",
    "            \"<p>    사각형<->원형:\" + o2.collides(o3)+\",\"+o3.collides(o2)+\n",
    "            \"<p>    원형<->삼각형:\" + o3.collides(o1)+\",\"+o1.collides(o3)+ \n",
    "            \"</p>\"+  \n",
    "            \"<svg width='300' height='300' style='border:solid 1px'>\"\n",
    "            + o1 + o2 + o3 + //o4 +\n",
    "            \"</svg>\";\n",
    "\n",
    "        }\n",
    "        sgvs += \"\"+sgvs.contains(\"false,true\") +sgvs.contains(\"true,false\");\n",
    "         return sgvs;   \n",
    "    }\n",
    "}"
   ]
  }
 ],
 "metadata": {
  "kernelspec": {
   "display_name": "Java",
   "language": "java",
   "name": "java"
  },
  "language_info": {
   "codemirror_mode": "text/x-java",
   "file_extension": ".java",
   "mimetype": "",
   "name": "Java",
   "nbconverter_exporter": "",
   "version": "11.0.1"
  },
  "toc": {
   "base_numbering": 1,
   "nav_menu": {},
   "number_sections": false,
   "sideBar": false,
   "skip_h1_title": false,
   "title_cell": "Table of Contents",
   "title_sidebar": "Contents",
   "toc_cell": false,
   "toc_position": {},
   "toc_section_display": false,
   "toc_window_display": false
  }
 },
 "nbformat": 4,
 "nbformat_minor": 2
}
